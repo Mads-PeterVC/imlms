{
 "cells": [
  {
   "cell_type": "code",
   "execution_count": null,
   "id": "3ecd86db",
   "metadata": {},
   "outputs": [],
   "source": [
    "%%capture install\n",
    "try:\n",
    "  import imlms\n",
    "  print('Already installed')\n",
    "except:\n",
    "  %pip install git+https://github.com/Mads-PeterVC/imlms"
   ]
  },
  {
   "cell_type": "code",
   "execution_count": null,
   "id": "667ae466",
   "metadata": {},
   "outputs": [],
   "source": [
    "print(install.stdout.splitlines()[-1])"
   ]
  },
  {
   "cell_type": "code",
   "execution_count": null,
   "id": "29fa687b",
   "metadata": {},
   "outputs": [],
   "source": [
    "import matplotlib.pyplot as plt\n",
    "import numpy as np"
   ]
  },
  {
   "cell_type": "markdown",
   "execution_count": null,
   "id": "8208fd96",
   "metadata": {},
   "outputs": [],
   "source": [
    "# Object Oriented Programming"
   ]
  },
  {
   "cell_type": "markdown",
   "execution_count": null,
   "id": "3f25602d",
   "metadata": {},
   "outputs": [],
   "source": [
    "In Python everything is an an instance some class of \"objects\", for example \n",
    "an integer is an instance of the `int` type, as we may check using the `type` function"
   ]
  },
  {
   "cell_type": "code",
   "execution_count": null,
   "id": "d686d287",
   "metadata": {},
   "outputs": [],
   "source": [
    "type(1)"
   ]
  },
  {
   "cell_type": "markdown",
   "execution_count": null,
   "id": "06b56e91",
   "metadata": {},
   "outputs": [],
   "source": [
    "So far we have mostly used built-in types or types from libraries e.g. Numpys `array`. \n",
    "However, it is often useful to understand how to make our own types. \n",
    "\n",
    "This is done by creating a class using the `class` statement. You can think of \n",
    "a class definition as a blueprint for instances of the class."
   ]
  },
  {
   "cell_type": "code",
   "execution_count": null,
   "id": "9ec3ef46",
   "metadata": {},
   "outputs": [],
   "source": [
    "class FoodItem:\n",
    "\n",
    "    def __init__(self, name, price_pr_unit):\n",
    "        \"\"\"\n",
    "        The constructor of the class FoodItem, this __init__ method is \n",
    "        called when a new object of the class is created.\n",
    "        \"\"\"\n",
    "        self.name = name\n",
    "        self.price_pr_unit = price_pr_unit\n",
    "\n",
    "    def __str__(self):\n",
    "        \"\"\"\n",
    "        This method is called when the object is printed, for example by the print() function.\n",
    "        \"\"\"\n",
    "        return f\"{self.name}: ${self.price_pr_unit}\""
   ]
  },
  {
   "cell_type": "markdown",
   "execution_count": null,
   "id": "a7e0220a",
   "metadata": {},
   "outputs": [],
   "source": [
    "We can then create instances of our class, "
   ]
  },
  {
   "cell_type": "code",
   "execution_count": null,
   "id": "468b08f5",
   "metadata": {},
   "outputs": [],
   "source": [
    "tamal = FoodItem(\"Tamal\", 25)\n",
    "burrito = FoodItem(\"Burrito\", 15)\n",
    "\n",
    "print(tamal)\n",
    "print(burrito)"
   ]
  },
  {
   "cell_type": "markdown",
   "execution_count": null,
   "id": "0d17f6ec",
   "metadata": {},
   "outputs": [],
   "source": [
    "However, the power of classes come when using inheritance. \n",
    "\n",
    "With inheritance we can make classes that inherit functionality from the parent \n",
    "class and possibly with new added functionality.\n",
    "\n",
    "For example, we may inherit from `FoodItem` to create a `Tamal` class and a `Burrito` class \n",
    "that each have slightly different logic."
   ]
  },
  {
   "cell_type": "code",
   "execution_count": null,
   "id": "e0c83b30",
   "metadata": {},
   "outputs": [],
   "source": [
    "class Tamal(FoodItem):\n",
    "\n",
    "    def __init__(self, tamal_type):\n",
    "        super().__init__(\"Tamal\", 25)\n",
    "        if tamal_type in [\"elote\", \"carne con chile\"]:\n",
    "            self.tamal_type = tamal_type\n",
    "        else:\n",
    "            raise ValueError(f\"Invalid tamal type: {tamal_type}\")\n",
    "\n",
    "class Burrito(FoodItem):\n",
    "\n",
    "    def __init__(self, burrito_type):\n",
    "        if burrito_type in [\"machaca\", \"carne asada\", \"frijol\"]:\n",
    "            self.burrito_type = burrito_type\n",
    "        else:\n",
    "            raise ValueError(f\"Invalid burrito type: {burrito_type}\")\n",
    "        \n",
    "        if burrito_type == \"machaca\":\n",
    "            price = 20\n",
    "        elif burrito_type == \"carne asada\":\n",
    "            price = 30\n",
    "        elif burrito_type == \"frijol\":\n",
    "            price = 15\n",
    "        super().__init__(\"Burrito\", price)\n"
   ]
  },
  {
   "cell_type": "markdown",
   "execution_count": null,
   "id": "1c851530",
   "metadata": {},
   "outputs": [],
   "source": [
    "Classes have attributes, e.g. for the `FoodItem`-class the price is an attribute. \n",
    "We can access attributes for instances of the class with `.`-notation"
   ]
  },
  {
   "cell_type": "code",
   "execution_count": null,
   "id": "d1e0ade7",
   "metadata": {},
   "outputs": [],
   "source": [
    "carne_tamal = Tamal(\"carne con chile\")\n",
    "print(carne_tamal.price_pr_unit)\n",
    "\n",
    "machaca_burrito = Burrito(\"machaca\")\n",
    "print(machaca_burrito.price_pr_unit)"
   ]
  },
  {
   "cell_type": "markdown",
   "execution_count": null,
   "id": "874865b0",
   "metadata": {},
   "outputs": [],
   "source": [
    "Classes lets us write code where we are sure that some attribute exists, e.g. \n",
    "we can now write a `price_calculator`-function that calculates the total price \n",
    "of a list of `FoodItem`-instances"
   ]
  },
  {
   "cell_type": "code",
   "execution_count": null,
   "id": "2795584f",
   "metadata": {},
   "outputs": [],
   "source": [
    "def price_calculator(food_items):\n",
    "    total_price = 0\n",
    "    for food_item in food_items:\n",
    "        total_price += food_item.price_pr_unit\n",
    "    return total_price\n",
    "\n",
    "food_items = [carne_tamal, machaca_burrito]\n",
    "total_price = price_calculator(food_items)\n",
    "print(total_price)"
   ]
  },
  {
   "cell_type": "markdown",
   "execution_count": null,
   "id": "ceb6847c",
   "metadata": {},
   "outputs": [],
   "source": [
    "If we make a new class that inherits from `FoodItem` this continues to work"
   ]
  },
  {
   "cell_type": "code",
   "execution_count": null,
   "id": "ce7d6fce",
   "metadata": {},
   "outputs": [],
   "source": [
    "class Chilaquiles(FoodItem):\n",
    "\n",
    "    def __init__(self, chilaquiles_type, spice_level):\n",
    "        if chilaquiles_type in [\"verdes\", \"rojos\", \"mole\"]:\n",
    "            self.chilaquiles_type = chilaquiles_type\n",
    "        else:\n",
    "            raise ValueError(f\"Invalid chilaquiles type: {chilaquiles_type}\")\n",
    "        \n",
    "        if spice_level in [\"mild\", \"medium\", \"hot\"]:\n",
    "            self.spice_level = spice_level\n",
    "        \n",
    "        super().__init__(\"Chilaquiles\", 50)"
   ]
  },
  {
   "cell_type": "code",
   "execution_count": null,
   "id": "8560d610",
   "metadata": {},
   "outputs": [],
   "source": [
    "food_items = [carne_tamal, machaca_burrito]\n",
    "food_items.append(Chilaquiles(\"verdes\", \"hot\"))\n",
    "total_price = price_calculator(food_items)\n",
    "print(total_price)"
   ]
  },
  {
   "cell_type": "markdown",
   "execution_count": null,
   "id": "c48aafc5",
   "metadata": {},
   "outputs": [],
   "source": [
    "### Exercise: A Triangle Class"
   ]
  },
  {
   "cell_type": "markdown",
   "execution_count": null,
   "id": "a778ac63",
   "metadata": {},
   "outputs": [],
   "source": [
    "Create a `Triangle`-class with the following attribute:\n",
    "\n",
    "- positions: An (3x2)-np.array of the positions\n",
    "- color: A string for the color of the triangle\n",
    "\n",
    "Additionally, the class should have the following methods\n",
    "\n",
    "- `__init__`: Initialization method\n",
    "- `plot`: Plot the triangle in a given `ax`. \n",
    "- `move`: Move the triangle by the given `delta` which is also an np.array\n",
    "- `rotate`: Rotate the triangle given an `angle` in [0, 2 $\\pi$].\n",
    "- `change_color` Change the color of the triangle.\n",
    "\n",
    "Hint: For the rotation method you should create a rotation matrix and calculate new positions as the dot product \n",
    "between that matrix and the positions attribute. You can use `np.cos`, `np.sin` and `np.dot` - note that the trigonometric functions use radians."
   ]
  },
  {
   "cell_type": "code",
   "execution_count": null,
   "id": "3f81281b",
   "metadata": {},
   "outputs": [],
   "source": [
    "\n",
    "class Triangle:\n",
    "\n",
    "    def __init__(self, positions, color='red'):\n",
    "        self.positions = 0 # Replace this with the correct code\n",
    "        self.color = 0\n",
    "\n",
    "    def plot(self, ax):\n",
    "        ax.fill(self.positions[:, 0], self.positions[:, 1], color=self.color)\n",
    "\n",
    "    def move(self, delta):\n",
    "        pass # Your code\n",
    "\n",
    "    def rotate(self, angle):\n",
    "        pass # Your code\n",
    "\n",
    "    def change_color(self, new_color):\n",
    "        pass # Your code"
   ]
  },
  {
   "cell_type": "markdown",
   "execution_count": null,
   "id": "a4cb4f6f",
   "metadata": {},
   "outputs": [],
   "source": [
    "Try your class and each method"
   ]
  },
  {
   "cell_type": "code",
   "execution_count": null,
   "id": "18e94466",
   "metadata": {},
   "outputs": [],
   "source": [
    "triangle = Triangle([[0, 0], [1, 0], [0, 1]], color='green')\n",
    "triangle_1 = Triangle([[3, 3], [3, 4], [4, 3]], color='blue')\n",
    "\n",
    "triangle.rotate(np.pi/2)\n",
    "\n",
    "fig, ax = plt.subplots(figsize=(4, 4))\n",
    "\n",
    "triangle.plot(ax)\n",
    "triangle_1.plot(ax)\n",
    "\n",
    "ax.axis('equal')"
   ]
  },
  {
   "cell_type": "markdown",
   "execution_count": null,
   "id": "2f481bc8",
   "metadata": {},
   "outputs": [],
   "source": [
    "### Exercise: Projectile Motion"
   ]
  },
  {
   "cell_type": "markdown",
   "execution_count": null,
   "id": "ad966b3f",
   "metadata": {},
   "outputs": [],
   "source": [
    "Create a `Projectile`-class with the following attributes\n",
    "\n",
    "- `launch_velocity`: A `float` representing the velocity in m/s.\n",
    "- `launch_angle`: A `float` for the angle in degrees. \n",
    "- `position`: `tuple` of `float` for the position in 2D `(x, y)`.\n",
    "- `time`: A `float` for the elapsed time since launch.\n",
    "\n",
    "Additionally the class should have two methods\n",
    "\n",
    "- `__init__`: The constructor that creates an instance of the class. \n",
    "- `update_position`: Update the positions given a timestep `dt`. \n",
    "- `is_in_air`: Check whether the projectile is still in the air returning a `bool`.\n",
    "\n",
    "The update should follow the kinematics of motion, where horizontal and vertical motion is given by \n",
    "\n",
    "$$\n",
    "x = v_x t \n",
    "$$\n",
    "\n",
    "$$\n",
    "y = v_y t - \\frac{1}{2}g t^2\n",
    "$$\n",
    "And the velocity components depend on the launch angle $\\theta$\n",
    "\n",
    "$$\n",
    "v_x = v \\cos(\\theta)\n",
    "$$\n",
    "$$\n",
    "v_y = v \\sin(\\theta)\n",
    "$$\n",
    "\n",
    "Your `update_position` method should thus take small time step `dt` \n",
    "and increase the total time `self.time` and then calculate the positions \n",
    "for that time. \n",
    "\n",
    "To check whether the projectile still is in the air, check that $y > 0$. "
   ]
  },
  {
   "cell_type": "code",
   "execution_count": null,
   "id": "62283223",
   "metadata": {},
   "outputs": [],
   "source": [
    "from math import sin, cos\n",
    "\n",
    "class Projectile: \n",
    "\n",
    "    def __init__(self, launch_velocity, launch_angle):\n",
    "        pass # Your code here\n",
    "\n",
    "    def update_position(self, dt):\n",
    "        pass # Your code here\n",
    "    \n",
    "    def is_in_air(self):\n",
    "        pass # Your code here"
   ]
  },
  {
   "cell_type": "code",
   "execution_count": null,
   "id": "2b7bc334",
   "metadata": {},
   "outputs": [],
   "source": [
    "projectile = Projectile(10, 45)\n",
    "\n",
    "# Simulate its motion\n",
    "dt = 0.1  # Time step\n",
    "while projectile.is_in_air():\n",
    "    projectile.update_position(dt)\n",
    "    print(f\"Time: {projectile.time:.1f}s, Position: {projectile.position}\")"
   ]
  },
  {
   "cell_type": "markdown",
   "execution_count": null,
   "id": "a9da034f",
   "metadata": {},
   "outputs": [],
   "source": [
    "We can then track the projectiles motion and plot the trajectory"
   ]
  },
  {
   "cell_type": "code",
   "execution_count": null,
   "id": "02e55836",
   "metadata": {},
   "outputs": [],
   "source": [
    "import matplotlib.pyplot as plt\n",
    "\n",
    "# Initialize projectile and empty lists for positions\n",
    "projectile = Projectile(20, 45)\n",
    "x_vals, y_vals = [], []\n",
    "\n",
    "# Simulate motion\n",
    "dt = 0.1\n",
    "while projectile.is_in_air():\n",
    "    projectile.update_position(dt)\n",
    "    x_vals.append(projectile.position[0])\n",
    "    y_vals.append(projectile.position[1])\n",
    "\n",
    "# Plot trajectory\n",
    "plt.plot(x_vals, y_vals)\n",
    "plt.title(\"Projectile Motion\")\n",
    "plt.xlabel(\"Horizontal Distance (m)\")\n",
    "plt.ylabel(\"Vertical Distance (m)\")\n",
    "plt.show()\n"
   ]
  },
  {
   "cell_type": "markdown",
   "execution_count": null,
   "id": "82e9ae11",
   "metadata": {},
   "outputs": [],
   "source": [
    "### Exercise: Elastic Collisions"
   ]
  },
  {
   "cell_type": "markdown",
   "execution_count": null,
   "id": "ab67a1dd",
   "metadata": {},
   "outputs": [],
   "source": [
    "Create a `Particle` class and a `System`-class for the simulation of elastic collisions.\n",
    "\n",
    "The particle class should contain the following attributes\n",
    "\n",
    "- `mass`: The mass of the particle, a float\n",
    "- `position`: A 2d array of the position of the particle\n",
    "- `velocity`: A 2d array of the velocity of the particle\n",
    "- `radius`: The radius of the particle, float.\n",
    "\n",
    "The particle class should also have these methods\n",
    "\n",
    "- `move`: Takes a timestep `dt` and moves the particle according to its velocity.\n",
    "- `check_collision`: Check whether the particle has collided with another particle by being closer than the sum of their radii. Takes another particle as input. \n",
    "- `plot`: Draw the particle in a given axis.\n",
    "- `calculate_kinetic_energy`: Returns the kinetic energy of the particle"
   ]
  },
  {
   "cell_type": "code",
   "execution_count": null,
   "id": "8c8768dd",
   "metadata": {},
   "outputs": [],
   "source": [
    "class Particle:\n",
    "\n",
    "    def __init__(self, mass, position, velocity, radius=1.0):\n",
    "        pass # Your code here\n",
    "    def move(self, dt):\n",
    "        pass # Your code here\n",
    "\n",
    "    def check_collision(self, other_particle):\n",
    "        pass # Your code here\n",
    "    \n",
    "    def plot(self, ax):\n",
    "        circle = plt.Circle(self.position, self.radius, color='b', fill=False)\n",
    "        ax.add_artist(circle)\n",
    "        ax.draw_artist(circle)\n",
    "\n",
    "    def get_kinetic_energy(self):\n",
    "        pass # Your code here"
   ]
  },
  {
   "cell_type": "markdown",
   "execution_count": null,
   "id": "d5a18c22",
   "metadata": {},
   "outputs": [],
   "source": [
    "The `System` class has attributes\n",
    "\n",
    "- `particles` A list of `Particle` instances\n",
    "\n",
    "And methods \n",
    "\n",
    "- `add_particle`: Add a particle to the list of particles by appending it to the `particles` list.\n",
    "- `evovle`: Takes a timestep `dt` and evolves the system according to the velocities of the particles. Should also check for collisions and update the particles velocities according to the equations of an elastic collisions.\n",
    "\n",
    "The important equations can be found on [Wikipedia](https://en.wikipedia.org/wiki/Elastic_collision#Two-dimensional_collision_with_two_moving_objects)"
   ]
  },
  {
   "cell_type": "code",
   "execution_count": null,
   "id": "4506e7e8",
   "metadata": {},
   "outputs": [],
   "source": [
    "class System:\n",
    "\n",
    "    def __init__(self):\n",
    "        self.particles = []\n",
    "\n",
    "    def add_particle(self, particle):\n",
    "        self.particles.append(particle)\n",
    "\n",
    "    def evolve(self, dt):\n",
    "        pass # Your code here"
   ]
  },
  {
   "cell_type": "markdown",
   "execution_count": null,
   "id": "df8f5d0a",
   "metadata": {},
   "outputs": [],
   "source": [
    "Test your code by creating to particles that are on a collision trajectory, check that the kinetic energy is conserved\n",
    "(e.g. plot the kinetic energy as function of time).\n",
    "\n",
    "After that you can create a system with more particles. You can also try creating an animation of the system using \n",
    "[matplotlib](https://matplotlib.org/stable/api/_as_gen/matplotlib.animation.FuncAnimation.html)."
   ]
  },
  {
   "cell_type": "code",
   "execution_count": null,
   "id": "7d1ba219",
   "metadata": {},
   "outputs": [],
   "source": []
  }
 ],
 "metadata": {},
 "nbformat": 4,
 "nbformat_minor": 5
}
