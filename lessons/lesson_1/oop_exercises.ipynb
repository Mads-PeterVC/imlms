{
 "cells": [
  {
   "cell_type": "markdown",
   "execution_count": null,
   "id": "8a2cc7ca",
   "metadata": {},
   "outputs": [],
   "source": [
    "# Object Oriented Programming"
   ]
  },
  {
   "cell_type": "markdown",
   "execution_count": null,
   "id": "b9007d32",
   "metadata": {},
   "outputs": [],
   "source": [
    "In Python everything is an an instance some class of \"objects\", for example \n",
    "an integer is an instance of the `int` type, as we may check using the `type` function"
   ]
  },
  {
   "cell_type": "code",
   "execution_count": null,
   "id": "a458d4e8",
   "metadata": {},
   "outputs": [],
   "source": [
    "type(1)"
   ]
  },
  {
   "cell_type": "markdown",
   "execution_count": null,
   "id": "de0e52a9",
   "metadata": {},
   "outputs": [],
   "source": [
    "So far we have mostly used built-in types or types from libraries e.g. Numpys `array`. \n",
    "However, it is often useful to understand how to make our own types. \n",
    "\n",
    "This is done by creating a class using the `class` statement. You can think of \n",
    "a class definition as a blueprint for instances of the class."
   ]
  },
  {
   "cell_type": "code",
   "execution_count": null,
   "id": "d7d05476",
   "metadata": {},
   "outputs": [],
   "source": [
    "class FoodItem:\n",
    "\n",
    "    def __init__(self, name, price_pr_unit):\n",
    "        \"\"\"\n",
    "        The constructor of the class FoodItem, this __init__ method is \n",
    "        called when a new object of the class is created.\n",
    "        \"\"\"\n",
    "        self.name = name\n",
    "        self.price_pr_unit = price_pr_unit\n",
    "\n",
    "    def __str__(self):\n",
    "        \"\"\"\n",
    "        This method is called when the object is printed, for example by the print() function.\n",
    "        \"\"\"\n",
    "        return f\"{self.name}: ${self.price_pr_unit}\""
   ]
  },
  {
   "cell_type": "markdown",
   "execution_count": null,
   "id": "3608eaf6",
   "metadata": {},
   "outputs": [],
   "source": [
    "We can then create instances of our class, "
   ]
  },
  {
   "cell_type": "code",
   "execution_count": null,
   "id": "569d41e0",
   "metadata": {},
   "outputs": [],
   "source": [
    "tamal = FoodItem(\"Tamal\", 25)\n",
    "burrito = FoodItem(\"Burrito\", 15)\n",
    "\n",
    "print(tamal)\n",
    "print(burrito)"
   ]
  },
  {
   "cell_type": "markdown",
   "execution_count": null,
   "id": "8ccddafe",
   "metadata": {},
   "outputs": [],
   "source": [
    "However, the power of classes come when using inheritance. \n",
    "\n",
    "With inheritance we can make classes that inherit functionality from the parent \n",
    "class and possibly with new added functionality.\n",
    "\n",
    "For example, we may inherit from `FoodItem` to create a `Tamal` class and a `Burrito` class \n",
    "that each have slightly different logic."
   ]
  },
  {
   "cell_type": "code",
   "execution_count": null,
   "id": "c19f72b1",
   "metadata": {},
   "outputs": [],
   "source": [
    "class Tamal(FoodItem):\n",
    "\n",
    "    def __init__(self, tamal_type):\n",
    "        super().__init__(\"Tamal\", 25)\n",
    "        if tamal_type in [\"elote\", \"carne con chile\"]:\n",
    "            self.tamal_type = tamal_type\n",
    "        else:\n",
    "            raise ValueError(f\"Invalid tamal type: {tamal_type}\")\n",
    "\n",
    "class Burrito(FoodItem):\n",
    "\n",
    "    def __init__(self, burrito_type):\n",
    "        if burrito_type in [\"machaca\", \"carne asada\", \"frijol\"]:\n",
    "            self.burrito_type = burrito_type\n",
    "        else:\n",
    "            raise ValueError(f\"Invalid burrito type: {burrito_type}\")\n",
    "        \n",
    "        if burrito_type == \"machaca\":\n",
    "            price = 20\n",
    "        elif burrito_type == \"carne asada\":\n",
    "            price = 30\n",
    "        elif burrito_type == \"frijol\":\n",
    "            price = 15\n",
    "        super().__init__(\"Burrito\", price)\n"
   ]
  },
  {
   "cell_type": "markdown",
   "execution_count": null,
   "id": "828b7687",
   "metadata": {},
   "outputs": [],
   "source": [
    "Classes have attributes, e.g. for the `FoodItem`-class the price is an attribute. \n",
    "We can access attributes for instances of the class with `.`-notation"
   ]
  },
  {
   "cell_type": "code",
   "execution_count": null,
   "id": "4dfab3e8",
   "metadata": {},
   "outputs": [],
   "source": [
    "carne_tamal = Tamal(\"carne con chile\")\n",
    "print(carne_tamal.price_pr_unit)\n",
    "\n",
    "machaca_burrito = Burrito(\"machaca\")\n",
    "print(machaca_burrito.price_pr_unit)"
   ]
  },
  {
   "cell_type": "markdown",
   "execution_count": null,
   "id": "47abdc4d",
   "metadata": {},
   "outputs": [],
   "source": [
    "Classes lets us write code where we are sure that some attribute exists, e.g. \n",
    "we can now write a `price_calculator`-function that calculates the total price \n",
    "of a list of `FoodItem`-instances"
   ]
  },
  {
   "cell_type": "code",
   "execution_count": null,
   "id": "c1cf08bd",
   "metadata": {},
   "outputs": [],
   "source": [
    "def price_calculator(food_items):\n",
    "    total_price = 0\n",
    "    for food_item in food_items:\n",
    "        total_price += food_item.price_pr_unit\n",
    "    return total_price\n",
    "\n",
    "food_items = [carne_tamal, machaca_burrito]\n",
    "total_price = price_calculator(food_items)\n",
    "print(total_price)"
   ]
  },
  {
   "cell_type": "markdown",
   "execution_count": null,
   "id": "eb9993d7",
   "metadata": {},
   "outputs": [],
   "source": [
    "If we make a new class that inherits from `FoodItem` this continues to work"
   ]
  },
  {
   "cell_type": "code",
   "execution_count": null,
   "id": "15d65ecf",
   "metadata": {},
   "outputs": [],
   "source": [
    "class Chilaquiles(FoodItem):\n",
    "\n",
    "    def __init__(self, chilaquiles_type, spice_level):\n",
    "        if chilaquiles_type in [\"verdes\", \"rojos\", \"mole\"]:\n",
    "            self.chilaquiles_type = chilaquiles_type\n",
    "        else:\n",
    "            raise ValueError(f\"Invalid chilaquiles type: {chilaquiles_type}\")\n",
    "        \n",
    "        if spice_level in [\"mild\", \"medium\", \"hot\"]:\n",
    "            self.spice_level = spice_level\n",
    "        \n",
    "        super().__init__(\"Chilaquiles\", 50)"
   ]
  },
  {
   "cell_type": "code",
   "execution_count": null,
   "id": "b4be8e81",
   "metadata": {},
   "outputs": [],
   "source": [
    "food_items = [carne_tamal, machaca_burrito]\n",
    "food_items.append(Chilaquiles(\"verdes\", \"hot\"))\n",
    "total_price = price_calculator(food_items)\n",
    "print(total_price)"
   ]
  },
  {
   "cell_type": "markdown",
   "execution_count": null,
   "id": "d9aeb1c8",
   "metadata": {},
   "outputs": [],
   "source": [
    "### Exercise: Projectile Motion"
   ]
  },
  {
   "cell_type": "markdown",
   "execution_count": null,
   "id": "914c8795",
   "metadata": {},
   "outputs": [],
   "source": [
    "Create a `Projectile`-class with the following attributes\n",
    "\n",
    "- `launch_velocity`: A `float` representing the velocity in m/s.\n",
    "- `launch_angle`: A `float` for the angle in degrees. \n",
    "- `position`: `tuple` of `float` for the position in 2D `(x, y)`.\n",
    "- `time`: A `float` for the elapsed time since launch.\n",
    "\n",
    "Additionally the class should have two methods\n",
    "\n",
    "- `__init__`: The constructor that creates an instance of the class. \n",
    "- `update_position`: Update the positions given a timestep `dt`. \n",
    "- `is_in_air`: Check whether the projectile is still in the air returning a `bool`.\n",
    "\n",
    "The update should follow the kinematics of motion, where horizontal and vertical motion is given by \n",
    "\n",
    "$$\n",
    "x = v_x t \n",
    "$$\n",
    "\n",
    "$$\n",
    "y = v_y t - \\frac{1}{2}g t^2\n",
    "$$\n",
    "And the velocity components depend on the launch angle $\\theta$\n",
    "\n",
    "$$\n",
    "v_x = v \\cos(\\theta)\n",
    "$$\n",
    "$$\n",
    "v_y = v \\sin(\\theta)\n",
    "$$\n",
    "\n",
    "Your `update_position` method should thus take small time step `dt` \n",
    "and increase the total time `self.time` and then calculate the positions \n",
    "for that time. \n",
    "\n",
    "To check whether the projectile still is in the air, check that $y > 0$. "
   ]
  },
  {
   "cell_type": "code",
   "execution_count": null,
   "id": "e06bf747",
   "metadata": {},
   "outputs": [],
   "source": [
    "from math import sin, cos\n",
    "\n",
    "class Projectile: \n",
    "\n",
    "    def __init__(self, launch_velocity, launch_angle):\n",
    "        pass # Your code here\n",
    "\n",
    "    def update_position(self, dt):\n",
    "        pass # Your code here\n",
    "    \n",
    "    def is_in_air(self):\n",
    "        pass # Your code here"
   ]
  },
  {
   "cell_type": "code",
   "execution_count": null,
   "id": "c2c69d62",
   "metadata": {},
   "outputs": [],
   "source": [
    "projectile = Projectile(10, 45)\n",
    "\n",
    "# Simulate its motion\n",
    "dt = 0.1  # Time step\n",
    "while projectile.is_in_air():\n",
    "    projectile.update_position(dt)\n",
    "    print(f\"Time: {projectile.time:.1f}s, Position: {projectile.position}\")"
   ]
  },
  {
   "cell_type": "markdown",
   "execution_count": null,
   "id": "204e7310",
   "metadata": {},
   "outputs": [],
   "source": [
    "We can then track the projectiles motion and plot the trajectory"
   ]
  },
  {
   "cell_type": "code",
   "execution_count": null,
   "id": "8c6bd14a",
   "metadata": {},
   "outputs": [],
   "source": [
    "import matplotlib.pyplot as plt\n",
    "\n",
    "# Initialize projectile and empty lists for positions\n",
    "projectile = Projectile(20, 45)\n",
    "x_vals, y_vals = [], []\n",
    "\n",
    "# Simulate motion\n",
    "dt = 0.1\n",
    "while projectile.is_in_air():\n",
    "    projectile.update_position(dt)\n",
    "    x_vals.append(projectile.position[0])\n",
    "    y_vals.append(projectile.position[1])\n",
    "\n",
    "# Plot trajectory\n",
    "plt.plot(x_vals, y_vals)\n",
    "plt.title(\"Projectile Motion\")\n",
    "plt.xlabel(\"Horizontal Distance (m)\")\n",
    "plt.ylabel(\"Vertical Distance (m)\")\n",
    "plt.show()\n"
   ]
  },
  {
   "cell_type": "code",
   "execution_count": null,
   "id": "e7dcc91c",
   "metadata": {},
   "outputs": [],
   "source": []
  }
 ],
 "metadata": {},
 "nbformat": 4,
 "nbformat_minor": 5
}
