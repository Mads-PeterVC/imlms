{
 "cells": [
  {
   "cell_type": "code",
   "execution_count": null,
   "id": "5a248f53",
   "metadata": {},
   "outputs": [],
   "source": [
    "%%capture install\n",
    "try:\n",
    "  import imlms\n",
    "  print('Already installed')\n",
    "except:\n",
    "  %pip install git+https://github.com/Mads-PeterVC/imlms"
   ]
  },
  {
   "cell_type": "code",
   "execution_count": null,
   "id": "e3e86824",
   "metadata": {},
   "outputs": [],
   "source": [
    "print(install.stdout.splitlines()[-1])"
   ]
  },
  {
   "cell_type": "markdown",
   "execution_count": null,
   "id": "8649a663",
   "metadata": {},
   "outputs": [],
   "source": [
    "# Basic Python & Numpy"
   ]
  },
  {
   "cell_type": "markdown",
   "execution_count": null,
   "id": "112a03cc",
   "metadata": {},
   "outputs": [],
   "source": [
    "## Common Python syntax"
   ]
  },
  {
   "cell_type": "markdown",
   "execution_count": null,
   "id": "876c78fb",
   "metadata": {},
   "outputs": [],
   "source": [
    "### Example: Python"
   ]
  },
  {
   "cell_type": "markdown",
   "execution_count": null,
   "id": "08b7b38b",
   "metadata": {},
   "outputs": [],
   "source": [
    "Python is very lax with types, e.g we can add integers and floats together and \n",
    "Python will automatically sort out the details"
   ]
  },
  {
   "cell_type": "code",
   "execution_count": null,
   "id": "b1dd039f",
   "metadata": {},
   "outputs": [],
   "source": [
    "a = 1\n",
    "b = 1.0\n",
    "c = a + b \n",
    "print(c)"
   ]
  },
  {
   "cell_type": "markdown",
   "execution_count": null,
   "id": "6da2be37",
   "metadata": {},
   "outputs": [],
   "source": [
    "It is often convenient to use container types such as lists, dictionaries or tuples"
   ]
  },
  {
   "cell_type": "code",
   "execution_count": null,
   "id": "76f4a7a9",
   "metadata": {},
   "outputs": [],
   "source": [
    "my_list = [1, 2, 'tamal']\n",
    "print(my_list)"
   ]
  },
  {
   "cell_type": "code",
   "execution_count": null,
   "id": "a0d1ad1d",
   "metadata": {},
   "outputs": [],
   "source": [
    "my_tuple = [3, 4, 'frijolitos']\n",
    "print(my_tuple)"
   ]
  },
  {
   "cell_type": "code",
   "execution_count": null,
   "id": "15c6db99",
   "metadata": {},
   "outputs": [],
   "source": [
    "my_breakfast_order_dict = {'name': 'tamal', 'amount': 3, 'type': \"elote\"}\n",
    "print(my_breakfast_order_dict)"
   ]
  },
  {
   "cell_type": "markdown",
   "execution_count": null,
   "id": "6141af93",
   "metadata": {},
   "outputs": [],
   "source": [
    "Control flow statements are used to.. control the flow of a program"
   ]
  },
  {
   "cell_type": "code",
   "execution_count": null,
   "id": "c5348cfa",
   "metadata": {},
   "outputs": [],
   "source": [
    "for thing in my_list:\n",
    "    print(thing)"
   ]
  },
  {
   "cell_type": "code",
   "execution_count": null,
   "id": "4531844f",
   "metadata": {},
   "outputs": [],
   "source": [
    "for i in range(4):\n",
    "    if i == 0:\n",
    "        print('I am hungry')\n",
    "    elif i == 1:\n",
    "        print('I would like to eat tamales de elote')\n",
    "    elif i == 2:\n",
    "        print('With some frijolitos')\n",
    "    else:\n",
    "        print('Que rico!')\n",
    "    "
   ]
  },
  {
   "cell_type": "markdown",
   "execution_count": null,
   "id": "874e5581",
   "metadata": {},
   "outputs": [],
   "source": [
    "Functions are nice tools to avoid repeating code and to separate code into chunks that each \n",
    "have a distinct objective. \n",
    "\n",
    "Say we are interested in prime numbers and our objective is to plot the distribution \n",
    "of prime numbers below some upper limit $n$. In this case we might define two functions\n",
    "\n",
    "- One to compute all the primes below $n$. \n",
    "- Another to plot these in our preferred way. \n",
    "\n",
    "Rather than some giant function or script/block/cell. "
   ]
  },
  {
   "cell_type": "code",
   "execution_count": null,
   "id": "b67e6eac",
   "metadata": {},
   "outputs": [],
   "source": [
    "# These are examples of imports. \n",
    "# They are used to bring in code from other files or libraries.\n",
    "# The first import is from the Python Standard Library and is always available.\n",
    "# The second import is from the matplotlib library, which is not always available \n",
    "# and needs to be installed e.g. using 'pip install matplotlib'.\n",
    "from math import sqrt, floor \n",
    "import matplotlib.pyplot as plt\n",
    "\n",
    "\n",
    "def sieve_of_eratosthenes(n):\n",
    "    \"\"\"\n",
    "    Implementation of the Sieve of Eratosthenes algorithm to find all primes up to n.\n",
    "    \"\"\"\n",
    "    numbers = list(range(2, n+1))\n",
    "    bool_list = [True for i in range(2, n+1)]\n",
    "\n",
    "    for i in range(2, floor(sqrt(n))):\n",
    "        if bool_list[i]:\n",
    "            for j in range(i*i, n, i):\n",
    "                index = numbers.index(j)\n",
    "                bool_list[index] = False\n",
    "\n",
    "    primes = [p for p, b in zip(numbers, bool_list) if b]\n",
    "    return primes\n",
    "\n",
    "def plot_primes(primes):\n",
    "    \"\"\"\n",
    "    Plot the primes using matplotlib.\n",
    "    \"\"\"\n",
    "    fig, ax = plt.subplots(figsize=(12, 4))\n",
    "    ax.bar(primes, height=1, width=1)\n",
    "    return fig"
   ]
  },
  {
   "cell_type": "code",
   "execution_count": null,
   "id": "8c64cbe4",
   "metadata": {},
   "outputs": [],
   "source": [
    "primes = sieve_of_eratosthenes(250)\n",
    "fig = plot_primes(primes)"
   ]
  },
  {
   "cell_type": "markdown",
   "execution_count": null,
   "id": "eda87aa5",
   "metadata": {},
   "outputs": [],
   "source": [
    "There is general not a specific right way of doing this and it is something \n",
    "that you will learn as you write more code. However, it is something to keep in mind! \n",
    "\n",
    "If you are just doing something quick and dirty it doesn't really matter, but if there is a chance \n",
    "you will reuse or iterate on the code then it is immensely helpful! \n",
    "\n",
    "- When collaborating with others functions make it much easier for others to understand what a piece of code does. \n",
    "- Even when not collaborating with others you may have to come back and understand your own code at a later time - you are effectively collaborating with your future self so make it easy for yourself by writing functions.\n",
    "- For a large project you might discover later on that some part of the code you wrote earlier is a bottleneck, it is much easier to change that if your code consists of seperate functions rather than a monolith of code. \n",
    "\n",
    "The same applies to classes, which are covered in another notebook."
   ]
  },
  {
   "cell_type": "markdown",
   "execution_count": null,
   "id": "2e1216ad",
   "metadata": {},
   "outputs": [],
   "source": [
    "### Exercise: Understanding the Sieve of Eratosthenes\n",
    "\n",
    "Read the `sieve_of_eratosthenes`-function and try to understand what it does \n",
    "line for line. Feel free to discuss in small groups. "
   ]
  },
  {
   "cell_type": "markdown",
   "execution_count": null,
   "id": "8a56dab0",
   "metadata": {},
   "outputs": [],
   "source": [
    "## Numpy"
   ]
  },
  {
   "cell_type": "markdown",
   "execution_count": null,
   "id": "98439c69",
   "metadata": {},
   "outputs": [],
   "source": [
    "Numpy is likely the most commonly used package for scientific computing in Python. \n",
    "To use numpy we first need to import it"
   ]
  },
  {
   "cell_type": "code",
   "execution_count": null,
   "id": "a8b28669",
   "metadata": {},
   "outputs": [],
   "source": [
    "import numpy as np"
   ]
  },
  {
   "cell_type": "markdown",
   "execution_count": null,
   "id": "9e0706bf",
   "metadata": {},
   "outputs": [],
   "source": [
    "After which we have access to numpy functions and classes, the most important \n",
    "thing being the `array`"
   ]
  },
  {
   "cell_type": "code",
   "execution_count": null,
   "id": "33a16a88",
   "metadata": {},
   "outputs": [],
   "source": [
    "my_array = np.array([1, 2, 3, 4, 5])\n",
    "print(my_array)"
   ]
  },
  {
   "cell_type": "markdown",
   "execution_count": null,
   "id": "eaf7e22f",
   "metadata": {},
   "outputs": [],
   "source": [
    "When data is stored in arrays high-performance routines can be used for many operations"
   ]
  },
  {
   "cell_type": "code",
   "execution_count": null,
   "id": "f917bba2",
   "metadata": {},
   "outputs": [],
   "source": [
    "s = np.sum(my_array)\n",
    "p = np.prod(my_array)\n",
    "g = np.mean(my_array)\n",
    "print(s, p, g)"
   ]
  },
  {
   "cell_type": "markdown",
   "execution_count": null,
   "id": "e78c6c19",
   "metadata": {},
   "outputs": [],
   "source": [
    "### Exercise: Summation using standard Python vs. Numpy.\n",
    "\n",
    "Above I said numpy offers 'high-performance routines', in this exercise we will explore \n",
    "that a little bit. \n",
    "\n",
    "You must write two functions \n",
    "\n",
    "- `sum_list_of_numbers`: That takes a list of numbers as input and returns the sum. Write this using a for loop.\n",
    "- `sum_array_of_numbers`: This function should take an array of numbers and return the sum. Do not use a for-loop here!"
   ]
  },
  {
   "cell_type": "code",
   "execution_count": null,
   "id": "ef0d6493",
   "metadata": {},
   "outputs": [],
   "source": [
    "\n",
    "def sum_list_of_numbers(numbers):\n",
    "    \"\"\"\n",
    "    Sum a list of numbers.\n",
    "    \"\"\"\n",
    "    pass # Your code here\n",
    "\n",
    "def sum_array_of_numbers(numbers):\n",
    "    \"\"\"\n",
    "    Sum an array of numbers.\n",
    "    \"\"\"\n",
    "    pass # Your code here"
   ]
  },
  {
   "cell_type": "markdown",
   "execution_count": null,
   "id": "5cb8467a",
   "metadata": {},
   "outputs": [],
   "source": [
    "The code below tests these functions"
   ]
  },
  {
   "cell_type": "code",
   "execution_count": null,
   "id": "737ea724",
   "metadata": {},
   "outputs": [],
   "source": [
    "def get_random_numbers(n):\n",
    "    \"\"\"\n",
    "    Get n random numbers.\n",
    "    \"\"\"\n",
    "    array = np.random.uniform(0, 100, n)\n",
    "    return array, list(array)\n",
    "\n",
    "N = 10000000\n",
    "array_of_numbers, list_of_numbers = get_random_numbers(N)"
   ]
  },
  {
   "cell_type": "code",
   "execution_count": null,
   "id": "99a08ee3",
   "metadata": {},
   "outputs": [],
   "source": [
    "%timeit sum_list_of_numbers(list_of_numbers)"
   ]
  },
  {
   "cell_type": "code",
   "execution_count": null,
   "id": "19ed2293",
   "metadata": {},
   "outputs": [],
   "source": [
    "%timeit sum_array_of_numbers(array_of_numbers)"
   ]
  },
  {
   "cell_type": "markdown",
   "execution_count": null,
   "id": "55d89a67",
   "metadata": {},
   "outputs": [],
   "source": [
    "On my machine I find that Numpy is around ~175 times faster than regular Python.\n",
    "The reason for this is that we are paying for the friendliness of Python. \n",
    "Everytime we say `a + b` Python will check the types of `a` and `b` and use that \n",
    "to determine if it knows how to add these two types together and how to do so. \n",
    "\n",
    "With Numpy the entire array is already known to have numbers of the same type and \n",
    "the array is given to a C or Fortran program that does the actual summation. "
   ]
  },
  {
   "cell_type": "markdown",
   "execution_count": null,
   "id": "b2ea4952",
   "metadata": {},
   "outputs": [],
   "source": [
    "### Exercise: Root finding, free energy and phase transitions."
   ]
  },
  {
   "cell_type": "code",
   "execution_count": null,
   "id": "74f10908",
   "metadata": {},
   "outputs": [],
   "source": [
    "import numpy as np\n",
    "from scipy.optimize import root\n",
    "import matplotlib.pyplot as plt"
   ]
  },
  {
   "cell_type": "markdown",
   "execution_count": null,
   "id": "24437315",
   "metadata": {},
   "outputs": [],
   "source": [
    "The Gibbs free energy of different phases of a material may be used to calculate \n",
    "the temperature at which a phase transition occurs. \n",
    "\n",
    "We will decide that for the material we are interested in the Gibbs free energy as a \n",
    "function of temperature may be described using the following expression \n",
    "\n",
    "$$\n",
    "G(T) = a + b T + c T \\log(T)\n",
    "$$\n",
    "Where $a$, $b$ and $c$ are phase specific constants. Our goal is to find the temperature \n",
    "at which a phase transition occurs. The phase that has the lowest Gibbs free energy \n",
    "is the one that is thermodynamically favourable, so we need to find the temperature at \n",
    "which \n",
    "\n",
    "$$\n",
    "G_1(T) = G_2(T)\n",
    "$$\n",
    "\n",
    "\n",
    "\n",
    "The phase-dependent constants for the two phases of interest are\n",
    "\n",
    "| Phase | a | b | c | \n",
    "| -----|----|---|---|\n",
    "|   1  |  -50 | 0.1  | 0.02 |\n",
    "|   2  |  -21 | 0.05  | 0.01 |\n",
    "\n",
    "Start by defining functions for calculating the free energy of each phase."
   ]
  },
  {
   "cell_type": "code",
   "execution_count": null,
   "id": "0e99e8db",
   "metadata": {},
   "outputs": [],
   "source": [
    "\n",
    "def G1(T):\n",
    "    pass # Your code here\n",
    "\n",
    "\n",
    "def G2(T):\n",
    "    pass # Your code here"
   ]
  },
  {
   "cell_type": "markdown",
   "execution_count": null,
   "id": "6671cbec",
   "metadata": {},
   "outputs": [],
   "source": [
    "The cell below defines a function to plot the two free energies. Inspect \n",
    "the plot and think whether or not it makes sense? "
   ]
  },
  {
   "cell_type": "code",
   "execution_count": null,
   "id": "291659b3",
   "metadata": {},
   "outputs": [],
   "source": [
    "def plot_free_energy(T_transition=None):\n",
    "    T_vals = np.linspace(200, 400, 500)\n",
    "    G1_vals = G1(T_vals)\n",
    "    G2_vals = G2(T_vals)\n",
    "\n",
    "    fig, ax = plt.subplots(figsize=(6, 3))\n",
    "\n",
    "    ax.plot(T_vals, G1_vals, label=\"Phase 1: $G_1(T)$\")\n",
    "    ax.plot(T_vals, G2_vals, label=\"Phase 2: $G_2(T)$\")\n",
    "    ax.set_xlabel(\"Temperature (K)\")\n",
    "    ax.set_ylabel(\"Gibbs Free Energy (G)\")\n",
    "    ax.legend()\n",
    "    ax.set_title(\"Phase Transition: Gibbs Free Energy vs. Temperature\")\n",
    "\n",
    "    if T_transition is not None:\n",
    "        ax.axvline(T_transition, color='red', linestyle='--', label=f\"Transition Temperature: {T_transition:.2f} K\")\n",
    "\n",
    "\n",
    "    plt.show()\n",
    "\n",
    "plot_free_energy()"
   ]
  },
  {
   "cell_type": "markdown",
   "execution_count": null,
   "id": "e9a3bf97",
   "metadata": {},
   "outputs": [],
   "source": [
    "As we said above the transition occurs when $G_1(T) = G_2(T)$ so we can find it by finding \n",
    "the root of the equation\n",
    "\n",
    "$G_1(T) - G_2(T) = 0$\n",
    "\n",
    "To solve this you should; \n",
    "\n",
    "1. Implement a function that takes $T$ as input and returns $G_1(T) - G_2(T)$.\n",
    "2. Use `root` from Scipy to find the root. \n",
    "\n",
    "Hint: Use the `root` functions [documentation](https://docs.scipy.org/doc/scipy-1.15.0/reference/generated/scipy.optimize.root.html) to understand how to use it. \n",
    "\n",
    "Hint: The `root` function returns a `Solution`-object where you can access the variable as `solution.x`"
   ]
  },
  {
   "cell_type": "code",
   "execution_count": null,
   "id": "51f21f02",
   "metadata": {},
   "outputs": [],
   "source": [
    "\n",
    "# Your code in this cell."
   ]
  },
  {
   "cell_type": "markdown",
   "execution_count": null,
   "id": "9042aebc",
   "metadata": {},
   "outputs": [],
   "source": [
    "The cell below will print the transition temperature if everything has worked out so far. "
   ]
  },
  {
   "cell_type": "code",
   "execution_count": null,
   "id": "51b61d90",
   "metadata": {},
   "outputs": [],
   "source": [
    "# Display the result\n",
    "if solution.success:\n",
    "    T_transition = solution.x[0]\n",
    "    print(f\"The phase transition temperature is approximately {T_transition:.2f} K.\")\n",
    "else:\n",
    "    print(\"Root finding did not converge.\")"
   ]
  },
  {
   "cell_type": "code",
   "execution_count": null,
   "id": "6b278a18",
   "metadata": {},
   "outputs": [],
   "source": [
    "T_transition = solution.x[0]\n",
    "plot_free_energy(T_transition)"
   ]
  },
  {
   "cell_type": "code",
   "execution_count": null,
   "id": "7a807732",
   "metadata": {},
   "outputs": [],
   "source": []
  }
 ],
 "metadata": {},
 "nbformat": 4,
 "nbformat_minor": 5
}
