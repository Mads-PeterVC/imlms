{
 "cells": [
  {
   "cell_type": "code",
   "execution_count": null,
   "id": "8c869065",
   "metadata": {},
   "outputs": [],
   "source": [
    "%%capture install\n",
    "try:\n",
    "  import imlms\n",
    "  print('Already installed')\n",
    "except:\n",
    "  %pip install git+https://github.com/Mads-PeterVC/imlms"
   ]
  },
  {
   "cell_type": "code",
   "execution_count": null,
   "id": "47cd8766",
   "metadata": {},
   "outputs": [],
   "source": [
    "print(install.stdout.splitlines()[-1])"
   ]
  },
  {
   "cell_type": "markdown",
   "execution_count": null,
   "id": "136a9b9a",
   "metadata": {},
   "outputs": [],
   "source": [
    "# Descriptors"
   ]
  },
  {
   "cell_type": "markdown",
   "execution_count": null,
   "id": "2f9ebc6f",
   "metadata": {},
   "outputs": [],
   "source": []
  }
 ],
 "metadata": {},
 "nbformat": 4,
 "nbformat_minor": 5
}
