{
 "cells": [
  {
   "cell_type": "code",
   "execution_count": null,
   "id": "dc4b1235",
   "metadata": {},
   "outputs": [],
   "source": [
    "%%capture install\n",
    "try:\n",
    "  import imlms\n",
    "  print('Already installed')\n",
    "except:\n",
    "  %pip install git+https://github.com/Mads-PeterVC/imlms"
   ]
  },
  {
   "cell_type": "code",
   "execution_count": null,
   "id": "01275a1a",
   "metadata": {},
   "outputs": [],
   "source": [
    "print(install.stdout.splitlines()[-1])"
   ]
  },
  {
   "cell_type": "markdown",
   "execution_count": null,
   "id": "6802c7e3",
   "metadata": {},
   "outputs": [],
   "source": [
    "# Descriptors"
   ]
  },
  {
   "cell_type": "markdown",
   "execution_count": null,
   "id": "b35e72f8",
   "metadata": {},
   "outputs": [],
   "source": []
  }
 ],
 "metadata": {},
 "nbformat": 4,
 "nbformat_minor": 5
}
