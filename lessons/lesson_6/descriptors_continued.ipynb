{
 "cells": [
  {
   "cell_type": "code",
   "execution_count": null,
   "id": "709d340b",
   "metadata": {},
   "outputs": [],
   "source": [
    "%%capture install\n",
    "try:\n",
    "  import imlms\n",
    "  print('Already installed')\n",
    "except:\n",
    "  %pip install git+https://github.com/Mads-PeterVC/imlms"
   ]
  },
  {
   "cell_type": "code",
   "execution_count": null,
   "id": "24a56ad5",
   "metadata": {},
   "outputs": [],
   "source": [
    "print(install.stdout.splitlines()[-1])"
   ]
  },
  {
   "cell_type": "markdown",
   "execution_count": null,
   "id": "fe12ca4f",
   "metadata": {},
   "outputs": [],
   "source": [
    "# Descriptors"
   ]
  },
  {
   "cell_type": "code",
   "execution_count": null,
   "id": "fc909a58",
   "metadata": {},
   "outputs": [],
   "source": [
    "import torch\n",
    "import matplotlib.pyplot as plt\n",
    "from scipy.spatial.distance import cdist\n",
    "import numpy as np\n",
    "from imlms.potentials.load_carbon_data import get_invariances_examples\n",
    "from agox.utils.plot import plot_atoms, plot_cell"
   ]
  },
  {
   "cell_type": "markdown",
   "execution_count": null,
   "id": "81eb2c6b",
   "metadata": {},
   "outputs": [],
   "source": [
    "### Example: Atomic Descriptors"
   ]
  },
  {
   "cell_type": "code",
   "execution_count": null,
   "id": "9aa9219b",
   "metadata": {},
   "outputs": [],
   "source": [
    "def atomic_fingerprint(positions, cutoff=5.0, n=16, sigma=0.5):\n",
    "    R = cdist(positions, positions).reshape(len(positions), len(positions), 1)\n",
    "    r0 = np.linspace(0, cutoff, n).reshape(1, 1, n)\n",
    "    z = np.exp(-(R-r0)**2/ sigma**2) * np.cos(np.pi/2 * r0 / cutoff) * (r0 < cutoff)\n",
    "    return z.sum(axis=1)"
   ]
  },
  {
   "cell_type": "code",
   "execution_count": null,
   "id": "6ac39652",
   "metadata": {},
   "outputs": [],
   "source": [
    "chain, ring = get_invariances_examples()"
   ]
  },
  {
   "cell_type": "code",
   "execution_count": null,
   "id": "51435300",
   "metadata": {},
   "outputs": [],
   "source": [
    "fig, axes = plt.subplots(1, 2, figsize=(6, 3))\n",
    "\n",
    "labels = ['Chain', 'Ring']\n",
    "for ax, atoms, label in zip(axes, [chain, ring], labels):\n",
    "    plot_cell(ax, atoms.cell, collection_kwargs={'alpha': 0})\n",
    "    plot_atoms(ax, atoms)\n",
    "    for atom in atoms:\n",
    "        ax.text(atom.x, atom.y, atom.index, fontsize=8, color='black', ha='center', va='center')\n",
    "    ax.set_title(label)"
   ]
  },
  {
   "cell_type": "markdown",
   "execution_count": null,
   "id": "6c34f61d",
   "metadata": {},
   "outputs": [],
   "source": [
    "Previously we have used descriptors of configurations, but we can also make \n",
    "descriptors of atoms - or as it is typically called descriptors of the atomic \n",
    "environment.\n",
    "\n",
    "The `atomic_fingerprint` function above computes such atomic environment descriptors.\n",
    "\n",
    "The cell below computes these fingerprint for the two example structures"
   ]
  },
  {
   "cell_type": "code",
   "execution_count": null,
   "id": "6bec568d",
   "metadata": {},
   "outputs": [],
   "source": [
    "ring_fingerprints = atomic_fingerprint(ring.positions)\n",
    "chain_fingerprints = atomic_fingerprint(chain.positions)\n",
    "\n",
    "print(\"Ring\", ring_fingerprints.shape)\n",
    "print(\"Chain\", chain_fingerprints.shape)"
   ]
  },
  {
   "cell_type": "markdown",
   "execution_count": null,
   "id": "5ce57459",
   "metadata": {},
   "outputs": [],
   "source": [
    "From the shapes we see that for each example structure we have 6 vectors, corresponding to the number of atoms, with 16 entries. "
   ]
  },
  {
   "cell_type": "code",
   "execution_count": null,
   "id": "18330cd2",
   "metadata": {},
   "outputs": [],
   "source": [
    "def dot_product_similarity(v1, v2):\n",
    "    return np.dot(v1, v2) / (np.linalg.norm(v1) * np.linalg.norm(v2))"
   ]
  },
  {
   "cell_type": "markdown",
   "execution_count": null,
   "id": "fca3259f",
   "metadata": {},
   "outputs": [],
   "source": [
    "Like before we can use the dot product similarity measure to compare the different atomic descriptors.\n",
    "From the figure above we can tell that \n",
    "\n",
    "- For the chain, atoms 4 and 5 are at either end of the chain. Which are very similar environments, so we would expect the fingerprints of these these two atoms to be very similar. \n",
    "\n",
    "- Atoms 1 and 2 of the chain are both in the center, so we expect them to be very similar.\n",
    "\n",
    "- Atom 1 of the chain is in the middle which is quite different from atom 4 at the end, so the similarity between their descriptors should be lower.\n",
    "\n",
    "- All atoms of the ring structure are similar, because of its symmetry, so the similarity between environments should be high. "
   ]
  },
  {
   "cell_type": "code",
   "execution_count": null,
   "id": "e0ea26f4",
   "metadata": {},
   "outputs": [],
   "source": [
    "chain_45 = dot_product_similarity(chain_fingerprints[4], chain_fingerprints[5])\n",
    "print(f\"Chain 4-5 {chain_45:0.4f}\")\n",
    "\n",
    "chain_12 = dot_product_similarity(chain_fingerprints[1], chain_fingerprints[2])\n",
    "print(f\"Chain 1-2 {chain_12:0.4f}\")\n",
    "\n",
    "chain_14 = dot_product_similarity(chain_fingerprints[1], chain_fingerprints[4])\n",
    "print(f\"Chain 1-4 {chain_14:0.4f}\")"
   ]
  },
  {
   "cell_type": "markdown",
   "execution_count": null,
   "id": "a64e9429",
   "metadata": {},
   "outputs": [],
   "source": [
    "As before we can make a similarity matrix to get a visual representation of the similarity. "
   ]
  },
  {
   "cell_type": "code",
   "execution_count": null,
   "id": "92b13604",
   "metadata": {},
   "outputs": [],
   "source": [
    "D_ring = np.zeros((6, 6))\n",
    "D_chain = np.zeros((6, 6))\n",
    "D_ring_vs_chain = np.zeros((6, 6))\n",
    "for i in range(6):\n",
    "    for j in range(6):\n",
    "        D_ring[i, j] = dot_product_similarity(ring_fingerprints[i], ring_fingerprints[j])\n",
    "        D_chain[i, j] = dot_product_similarity(chain_fingerprints[i], chain_fingerprints[j])\n",
    "        D_ring_vs_chain[i, j] = dot_product_similarity(ring_fingerprints[i], chain_fingerprints[j])"
   ]
  },
  {
   "cell_type": "code",
   "execution_count": null,
   "id": "f5aa9f95",
   "metadata": {},
   "outputs": [],
   "source": [
    "fig, ax = plt.subplots(1, 3, figsize=(12, 4))\n",
    "\n",
    "c = ax[0].imshow(D_ring, cmap='viridis', vmin=0.9, vmax=1.0)\n",
    "ax[0].set_title('Ring')\n",
    "\n",
    "ax[1].imshow(D_chain, cmap='viridis', vmin=0.9, vmax=1.0)\n",
    "ax[1].set_title('Chain')\n",
    "\n",
    "ax[2].imshow(D_ring_vs_chain, cmap='viridis', vmin=0.9, vmax=1.0)\n",
    "ax[2].set_title('Ring vs Chain')\n",
    "\n",
    "for a in ax[0:1]:\n",
    "    a.set_xlabel('Atom index')\n",
    "    a.set_ylabel('Atom index')\n",
    "\n",
    "ax[2].set_xlabel('Chain Atom index')\n",
    "ax[2].set_ylabel('Ring Atom index')"
   ]
  },
  {
   "cell_type": "code",
   "execution_count": null,
   "id": "033e5598",
   "metadata": {},
   "outputs": [],
   "source": []
  }
 ],
 "metadata": {},
 "nbformat": 4,
 "nbformat_minor": 5
}
