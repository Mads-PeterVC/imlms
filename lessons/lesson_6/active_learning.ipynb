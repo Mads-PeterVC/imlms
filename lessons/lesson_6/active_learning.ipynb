{
 "cells": [
  {
   "cell_type": "code",
   "execution_count": null,
   "id": "0bde14f2",
   "metadata": {},
   "outputs": [],
   "source": [
    "%%capture install\n",
    "try:\n",
    "  import imlms\n",
    "  print('Already installed')\n",
    "except:\n",
    "  %pip install git+https://github.com/Mads-PeterVC/imlms"
   ]
  },
  {
   "cell_type": "code",
   "execution_count": null,
   "id": "ba55b818",
   "metadata": {},
   "outputs": [],
   "source": [
    "print(install.stdout.splitlines()[-1])"
   ]
  },
  {
   "cell_type": "markdown",
   "execution_count": null,
   "id": "1e591e0c",
   "metadata": {},
   "outputs": [],
   "source": [
    "# Active Learning"
   ]
  },
  {
   "cell_type": "markdown",
   "execution_count": null,
   "id": "6478e011",
   "metadata": {},
   "outputs": [],
   "source": []
  }
 ],
 "metadata": {},
 "nbformat": 4,
 "nbformat_minor": 5
}
