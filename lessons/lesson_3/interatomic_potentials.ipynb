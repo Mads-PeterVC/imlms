{
 "cells": [
  {
   "cell_type": "code",
   "execution_count": null,
   "id": "44f464e5",
   "metadata": {},
   "outputs": [],
   "source": [
    "%%capture install\n",
    "try:\n",
    "  import imlms\n",
    "  print('Already installed')\n",
    "except:\n",
    "  %pip install git+https://github.com/Mads-PeterVC/imlms"
   ]
  },
  {
   "cell_type": "code",
   "execution_count": null,
   "id": "3554a7ae",
   "metadata": {},
   "outputs": [],
   "source": [
    "print(install.stdout.splitlines()[-1])"
   ]
  },
  {
   "cell_type": "code",
   "execution_count": null,
   "id": "cc88642b",
   "metadata": {},
   "outputs": [],
   "source": [
    "import numpy as np"
   ]
  },
  {
   "cell_type": "markdown",
   "execution_count": null,
   "id": "8ac69eb4",
   "metadata": {},
   "outputs": [],
   "source": [
    "# Interatomic Potentials"
   ]
  },
  {
   "cell_type": "markdown",
   "execution_count": null,
   "id": "366d931a",
   "metadata": {},
   "outputs": [],
   "source": [
    "Interatomic potentials are a key concept in materials science. \n",
    "\n",
    "We have seen previously that we can predict e.g. lattice constants and adsorption sites\n",
    "using a potential. \n",
    "\n",
    "For now we will work with a simple Lennard Jones potential."
   ]
  },
  {
   "cell_type": "markdown",
   "execution_count": null,
   "id": "6feed6ca",
   "metadata": {},
   "outputs": [],
   "source": [
    "## The Lennard Jones Potential "
   ]
  },
  {
   "cell_type": "markdown",
   "execution_count": null,
   "id": "3e874137",
   "metadata": {},
   "outputs": [],
   "source": [
    "The Lennard Jones potential is among the simplest analytical potentials, it is a \n",
    "two-body potential where the interaction between a pair of atoms is given by\n",
    "$$\n",
    "V(r) = 4 \\epsilon \\left[ \\left(\\frac{\\sigma}{r}\\right)^{12} - \\left(\\frac{\\sigma}{r}\\right)^{6} \\right]\n",
    "$$\n",
    "\n",
    "Where $r$ is the distance between the atoms $\\sigma$ is a parameter that determines the \n",
    "location of the minimum and $\\epsilon$ determines the depth of the minimum."
   ]
  },
  {
   "cell_type": "markdown",
   "execution_count": null,
   "id": "c76f5d0f",
   "metadata": {},
   "outputs": [],
   "source": [
    "### Exercise: Energy of a pair of atoms.\n",
    "\n",
    "Implement a function that takes the distance `r`, `sigma` and `epsilon` and returns the Lennard Jones \n",
    "potential."
   ]
  },
  {
   "cell_type": "code",
   "execution_count": null,
   "id": "483d8637",
   "metadata": {},
   "outputs": [],
   "source": [
    "def get_lj_energy(r, sigma, epsilon):\n",
    "    E = 0 # calculate the Lennard-Jones energy\n",
    "    return E"
   ]
  },
  {
   "cell_type": "markdown",
   "execution_count": null,
   "id": "72cb622a",
   "metadata": {},
   "outputs": [],
   "source": [
    "It is often best to work with functions that take arrays as that allows for avoiding \n",
    "slow for-loops. So test whether your function works with an `numpy` array - otherwise \n",
    "change it so that it does;"
   ]
  },
  {
   "cell_type": "code",
   "execution_count": null,
   "id": "6694f4e1",
   "metadata": {},
   "outputs": [],
   "source": [
    "get_lj_energy(np.array([1, 2, 3]), 2**(-1/6), 1) # Your function works if the first value of output array is -1.0"
   ]
  },
  {
   "cell_type": "markdown",
   "execution_count": null,
   "id": "7f5d4035",
   "metadata": {},
   "outputs": [],
   "source": [
    "Plot the energy as a function of $r$ and play around with the parameters to get a feel for what they do. "
   ]
  },
  {
   "cell_type": "code",
   "execution_count": null,
   "id": "cba46295",
   "metadata": {},
   "outputs": [],
   "source": [
    "fig, ax = plt.subplots()\n",
    "\n",
    "r = 0 # create an array of r values\n",
    "E = 0 # create an array of E values by calling get_lj_energy\n",
    "\n",
    "ax.plot(r, E, label='Lennard-Jones Energy')"
   ]
  },
  {
   "cell_type": "markdown",
   "execution_count": null,
   "id": "8068d545",
   "metadata": {},
   "outputs": [],
   "source": [
    "### Exercise: Energy of an `Atoms` object."
   ]
  },
  {
   "cell_type": "markdown",
   "execution_count": null,
   "id": "6250dbf3",
   "metadata": {},
   "outputs": [],
   "source": [
    "Implement a function `calculate` that takes an `Atoms`-object, `sigma` and `epsilon` and returns the \n",
    "total energy according to the Lennard Jones expression. \n",
    "\n",
    "Hint: First create an array that contains the distance between all pairs of atoms, \n",
    "you can use the [`pdist`](https://docs.scipy.org/doc/scipy/reference/generated/scipy.spatial.distance.pdist.html)\n",
    "function from scipy to do this. Then pass that to your `get_lj_energy` function and sum \n",
    "all the terms together. \n",
    "\n",
    "Hint: You can get the positions of the atoms object with `atoms.positions`\n",
    "\n",
    "Hint: Use `np.sum` to sum over the returned values of `get_lj_energy`"
   ]
  },
  {
   "cell_type": "code",
   "execution_count": null,
   "id": "97ba3cba",
   "metadata": {},
   "outputs": [],
   "source": [
    "from scipy.spatial.distance import pdist\n",
    "\n",
    "def calculate(atoms, sigma, epsilon):\n",
    "    d = 0 # Find the distances between all atoms\n",
    "    E = 0 # Calculate the Lennard-Jones energy for each bond and sum them up\n",
    "    return E"
   ]
  },
  {
   "cell_type": "code",
   "execution_count": null,
   "id": "94d2c06f",
   "metadata": {},
   "outputs": [],
   "source": [
    "for r in [0.8, 1.0, 1.2]:\n",
    "\n",
    "    atoms = Atoms('H2', positions=[[0, 0, 0], [r, 0, 0]])\n",
    "    E = calculate(atoms.positions, 2**(-1/6), 1)\n",
    "    print(f'Energy for r = {r:0.2f} is {E:0.2f}')"
   ]
  },
  {
   "cell_type": "markdown",
   "execution_count": null,
   "id": "ed4aad1c",
   "metadata": {},
   "outputs": [],
   "source": [
    "### Exercise: Lennard Jones with Object Oriented Programming"
   ]
  },
  {
   "cell_type": "markdown",
   "execution_count": null,
   "id": "36645002",
   "metadata": {},
   "outputs": [],
   "source": [
    "The code we have written so far is functional; we have created functions that take some input and return output - without \n",
    "any type of state/memory. Yet, the inputs we have passed are not really of the same type - the `Atoms` object is \n",
    "really the variable and `sigma` and `epsilon` are parameters of the function. \n",
    "\n",
    "If is often beneficial to create classes in these types of situations and is very \n",
    "commonly done. "
   ]
  },
  {
   "cell_type": "code",
   "execution_count": null,
   "id": "1b8228d4",
   "metadata": {},
   "outputs": [],
   "source": [
    "\n",
    "class LennardJones:\n",
    "\n",
    "    def __init__(self, sigma, epsilon):\n",
    "        self.sigma = sigma\n",
    "        self.epsilon = epsilon\n",
    "    \n",
    "    def get_lj_energy(self, r):\n",
    "        # Calculate the Lennard-Jones energy using the class attributes \n",
    "        # self.sigma and self.epsilon. \n",
    "        pass\n",
    "\n",
    "    def calculate(self, atoms):\n",
    "        # Same logic as before, but now we use the class method get_lj_energy.\n",
    "        pass"
   ]
  },
  {
   "cell_type": "markdown",
   "execution_count": null,
   "id": "8a44090f",
   "metadata": {},
   "outputs": [],
   "source": [
    "### Exercise: Computing forces"
   ]
  },
  {
   "cell_type": "markdown",
   "execution_count": null,
   "id": "bcea62c6",
   "metadata": {},
   "outputs": [],
   "source": [
    "It is often useful to calculate not only the energy but also the force on each atom. The components \n",
    "of the forces are given by\n",
    "$$\n",
    "F_i^\\alpha = -\\frac{\\partial E}{\\partial x_i^\\alpha}\n",
    "$$\n",
    "\n",
    "Where $i$ indicates the atom and $\\alpha$ denotes either the $x$, $y$ or $z$ dimension. \n",
    "\n",
    "This can be applied to the Lennard Jones expression, but it is cumbersome and \n",
    "more difficult to implement than the potential itself - but if you want to try \n",
    "you can. Note that the potential is not given directly in terms of the coordinates, \n",
    "but rather in terms of the distance between atoms, so that needs to be taken into account.\n",
    "\n",
    "This exercise is very **optional** and probably best left as an extra for the interested. "
   ]
  },
  {
   "cell_type": "markdown",
   "execution_count": null,
   "id": "ba9d6e7b",
   "metadata": {},
   "outputs": [],
   "source": [
    "### Exercise: Lennard Jones with Pytorch"
   ]
  },
  {
   "cell_type": "markdown",
   "execution_count": null,
   "id": "fe843c3d",
   "metadata": {},
   "outputs": [],
   "source": [
    "As stepping stone to implementing neural network based potentials we will first \n",
    "look at implementing the Lennard Jones potential using Pytorch.\n",
    "\n",
    "To do so, we should replace all `numpy` or `scipy` functions in our implementation \n",
    "with `torch` functions and any use of arrays from `numpy` should be replaced \n",
    "with `torch.tensor`.\n",
    "\n",
    "One of the main benefits of doing this is that we can calculate forces using \n",
    "*automatic differentiation* the same technique that enables training of neural networks. \n",
    "\n",
    "In the cell below you should fill out the left out code. "
   ]
  },
  {
   "cell_type": "code",
   "execution_count": null,
   "id": "71ec1f3d",
   "metadata": {},
   "outputs": [],
   "source": [
    "\n",
    "import torch\n",
    "\n",
    "class LennardJonesTorch:\n",
    "\n",
    "    def __init__(self, sigma=1.0, epsilon=1.0):\n",
    "        self.sigma = sigma\n",
    "        self.epsilon = epsilon\n",
    "\n",
    "    def atoms_to_tensor(self, atoms):\n",
    "        return torch.tensor(atoms.positions, requires_grad=True)\n",
    "    \n",
    "    def get_lj_energy(self, r):\n",
    "        # Calculate the Lennard-Jones energy using the class attributes \n",
    "        # self.sigma and self.epsilon.\n",
    "        return 0 # Implement this function\n",
    "    \n",
    "    def get_forces(self, energy, positions):\n",
    "        return -torch.autograd.grad(energy, positions, retain_graph=True)[0]\n",
    "\n",
    "    def calculate(self, atoms):\n",
    "        positions = self.atoms_to_tensor(atoms)\n",
    "        return self.forward(positions)\n",
    "\n",
    "    def forward(self, positions):\n",
    "\n",
    "        # Calculate the pairwise distances\n",
    "        d = # Implement this - using torch.pdist\n",
    "\n",
    "\n",
    "        E = torch.sum(self.get_lj_energy(d))\n",
    "        F = self.get_forces(E, positions)\n",
    "\n",
    "        E = E.detach().numpy()\n",
    "        F = F.detach().numpy() \n",
    "        return E, F"
   ]
  },
  {
   "cell_type": "code",
   "execution_count": null,
   "id": "64ce3283",
   "metadata": {},
   "outputs": [],
   "source": [
    "from ase import Atoms\n",
    "\n",
    "LJT = LennardJonesTorch(sigma=2**(-1/6))\n",
    "\n",
    "for r in [0.8, 1.0, 1.2]:\n",
    "    atoms = Atoms('H2', positions=[[0.0, 0.0, 0.0], [r, 0.0, 0.0]])\n",
    "\n",
    "    energy, forces = LJT.calculate(atoms)\n",
    "    \n",
    "    print(f'r = {r:0.2f}')\n",
    "    print(f'\\tEnergy = {energy:0.2f}')\n",
    "    print(f'\\t Left atom force = {forces[0][0]:0.2f}')\n",
    "    print(f'\\t Right atom force = {forces[1][0]:0.2f}')"
   ]
  },
  {
   "cell_type": "markdown",
   "execution_count": null,
   "id": "70e21730",
   "metadata": {},
   "outputs": [],
   "source": [
    "You should find the following; \n",
    "\n",
    "- At `r = 0.80` there is a large repulsive force between the atoms as the bond length is significantly smaller than the equilibrium. \n",
    "- At `r = 1.00` the is no force as the atoms are at the equilibrium bond length. \n",
    "- At `r = 12.0` there is an attractive force between the atoms as the bond is now stretched beyond the equilibrium."
   ]
  },
  {
   "cell_type": "markdown",
   "execution_count": null,
   "id": "10614788",
   "metadata": {},
   "outputs": [],
   "source": [
    "### Exercise: Using atomic forces"
   ]
  },
  {
   "cell_type": "markdown",
   "execution_count": null,
   "id": "427318a9",
   "metadata": {},
   "outputs": [],
   "source": [
    "One common use case of atomic forces is local optimization or 'relaxation'. \n",
    "Here the energy is minimized by moving the atoms according to the forces, \n",
    "this is analagous to a ball rolling down a hill to find a \n",
    "position that minimizes the gravitational potential energy. \n",
    "\n",
    "ASE makes this very easy, the code below converts your `LennardJonesTorch` \n",
    "to an `ase` `Calculator` such that it can interface with the rest of the functionality. "
   ]
  },
  {
   "cell_type": "code",
   "execution_count": null,
   "id": "810faa4d",
   "metadata": {},
   "outputs": [],
   "source": [
    "from imlms import get_calculator_from_class\n",
    "\n",
    "LJT = get_calculator_from_class(LennardJonesTorch)(sigma=1.0, epsilon=1.0)\n",
    "\n",
    "atoms = Atoms('H2', positions=[[0.0, 0.0, 0.0], [1.5, 0.0, 0.0]])\n",
    "atoms.calc = LJT\n",
    "E = atoms.get_potential_energy()\n",
    "print(E)"
   ]
  },
  {
   "cell_type": "markdown",
   "execution_count": null,
   "id": "ff7e5f42",
   "metadata": {},
   "outputs": [],
   "source": [
    "Read this section on [optimizers](https://wiki.fysik.dtu.dk/ase/gettingstarted/tut02_h2o_structure/h2o.html#optimizers) \n",
    "from the `ase` documentation and relax a small molecule, e.g. H2 with your Lennard Jones potential."
   ]
  },
  {
   "cell_type": "code",
   "execution_count": null,
   "id": "da087b8a",
   "metadata": {},
   "outputs": [],
   "source": [
    "from ase.optimize import BFGS\n",
    "\n",
    "atoms = Atoms('H2', positions=[[0.0, 0.0, 0.0], [1.5, 0.0, 0.0]])\n",
    "atoms.calc = LJT\n",
    "\n",
    "optimizer = 0 # Instantiate the BFGS optimizer\n",
    "\n",
    "# Run the optimization using the .run() method.\n",
    "# your code here\n",
    "\n",
    "# Final potential energy\n",
    "print(atoms.get_potential_energy())"
   ]
  },
  {
   "cell_type": "markdown",
   "execution_count": null,
   "id": "ecc8163e",
   "metadata": {},
   "outputs": [],
   "source": [
    "The cell below creates a random cluster of ten Helium atoms and relaxes it using our \n",
    "Lennard Jones model written in Pytorch."
   ]
  },
  {
   "cell_type": "code",
   "execution_count": null,
   "id": "5a35cb2a",
   "metadata": {},
   "outputs": [],
   "source": [
    "import matplotlib.pyplot as plt\n",
    "from imlms.potentials.get_random_cluster import get_random_cluster, plot_atoms, plot_cell\n",
    "from ase.constraints import FixedPlane\n",
    "\n",
    "atoms = get_random_cluster()\n",
    "\n",
    "optimized = atoms.copy()\n",
    "optimized.calc = LJT\n",
    "optimized.set_constraint(FixedPlane(np.arange(len(atoms)), [0, 0, 1])) # Fix the z-coordinate\n",
    "optimizer = BFGS(optimized, logfile=None)\n",
    "optimizer.run(fmax=1e-3)\n",
    "optimized.center() # Center the atoms\n",
    "\n",
    "fig, axes = plt.subplots(1, 2, figsize=(6, 3))\n",
    "\n",
    "for ax, atoms in zip(axes, [atoms, optimized]):\n",
    "    plot_atoms(ax, atoms)\n",
    "    plot_cell(ax, atoms.cell)\n"
   ]
  }
 ],
 "metadata": {},
 "nbformat": 4,
 "nbformat_minor": 5
}
