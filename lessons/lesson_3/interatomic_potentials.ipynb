{
 "cells": [
  {
   "cell_type": "code",
   "execution_count": null,
   "id": "6838a1dd",
   "metadata": {},
   "outputs": [],
   "source": [
    "%%capture install\n",
    "try:\n",
    "  import imlms\n",
    "  print('Already installed')\n",
    "except:\n",
    "  %pip install git+https://github.com/Mads-PeterVC/imlms"
   ]
  },
  {
   "cell_type": "code",
   "execution_count": null,
   "id": "b2817f72",
   "metadata": {},
   "outputs": [],
   "source": [
    "print(install.stdout.splitlines()[-1])"
   ]
  },
  {
   "cell_type": "code",
   "execution_count": null,
   "id": "d3ebd5b6",
   "metadata": {},
   "outputs": [],
   "source": [
    "import numpy as np"
   ]
  },
  {
   "cell_type": "markdown",
   "execution_count": null,
   "id": "626bdba5",
   "metadata": {},
   "outputs": [],
   "source": [
    "# Interatomic Potentials"
   ]
  },
  {
   "cell_type": "markdown",
   "execution_count": null,
   "id": "1b743842",
   "metadata": {},
   "outputs": [],
   "source": [
    "Interatomic potentials are a key concept in materials science. \n",
    "\n",
    "We have seen previously that we can predict e.g. lattice constants and adsorption sites\n",
    "using a potential. \n",
    "\n",
    "For now we will work with a simple Lennard Jones potential."
   ]
  },
  {
   "cell_type": "markdown",
   "execution_count": null,
   "id": "60d32441",
   "metadata": {},
   "outputs": [],
   "source": [
    "## The Lennard Jones Potential "
   ]
  },
  {
   "cell_type": "markdown",
   "execution_count": null,
   "id": "baa19336",
   "metadata": {},
   "outputs": [],
   "source": [
    "The Lennard Jones potential is among the simplest analytical potentials, it is a \n",
    "two-body potential where the interaction between a pair of atoms is given by\n",
    "$$\n",
    "V(r) = 4 \\epsilon \\left[ \\left(\\frac{\\sigma}{r}\\right)^{12} - \\left(\\frac{\\sigma}{r}\\right)^{6} \\right]\n",
    "$$\n",
    "\n",
    "Where $r$ is the distance between the atoms $\\sigma$ is a parameter that determines the \n",
    "location of the minimum and $\\epsilon$ determines the depth of the minimum."
   ]
  },
  {
   "cell_type": "markdown",
   "execution_count": null,
   "id": "0a77cd50",
   "metadata": {},
   "outputs": [],
   "source": [
    "### Exercise: Energy of a pair of atoms.\n",
    "\n",
    "Implement a function that takes the distance `r`, `sigma` and `epsilon` and returns the Lennard Jones \n",
    "potential."
   ]
  },
  {
   "cell_type": "code",
   "execution_count": null,
   "id": "adc55324",
   "metadata": {},
   "outputs": [],
   "source": [
    "def get_lj_energy(r, sigma, epsilon):\n",
    "    E = 0 # calculate the Lennard-Jones energy\n",
    "    return E"
   ]
  },
  {
   "cell_type": "markdown",
   "execution_count": null,
   "id": "a0a4ac42",
   "metadata": {},
   "outputs": [],
   "source": [
    "It is often best to work with functions that take arrays as that allows for avoiding \n",
    "slow for-loops. So test whether your function works with an `numpy` array - otherwise \n",
    "change it so that it does;"
   ]
  },
  {
   "cell_type": "code",
   "execution_count": null,
   "id": "204cb4ae",
   "metadata": {},
   "outputs": [],
   "source": [
    "get_lj_energy(np.array([1, 2, 3]), 2**(-1/6), 1) # Your function works if the first value of output array is -1.0"
   ]
  },
  {
   "cell_type": "markdown",
   "execution_count": null,
   "id": "065bbd48",
   "metadata": {},
   "outputs": [],
   "source": [
    "Plot the energy as a function of $r$ and play around with the parameters to get a feel for what they do. "
   ]
  },
  {
   "cell_type": "code",
   "execution_count": null,
   "id": "6f5b9b1e",
   "metadata": {},
   "outputs": [],
   "source": [
    "fig, ax = plt.subplots()\n",
    "\n",
    "r = 0 # create an array of r values\n",
    "E = 0 # create an array of E values by calling get_lj_energy\n",
    "\n",
    "ax.plot(r, E, label='Lennard-Jones Energy')"
   ]
  },
  {
   "cell_type": "markdown",
   "execution_count": null,
   "id": "12714832",
   "metadata": {},
   "outputs": [],
   "source": [
    "### Exercise: Energy of an `Atoms` object."
   ]
  },
  {
   "cell_type": "markdown",
   "execution_count": null,
   "id": "a8b53ea2",
   "metadata": {},
   "outputs": [],
   "source": [
    "Implement a function `calculate` that takes an `Atoms`-object, `sigma` and `epsilon` and returns the \n",
    "total energy according to the Lennard Jones expression. \n",
    "\n",
    "Hint: First create an array that contains the distance between all pairs of atoms, \n",
    "you can use the [`pdist`](https://docs.scipy.org/doc/scipy/reference/generated/scipy.spatial.distance.pdist.html)\n",
    "function from scipy to do this. Then pass that to your `get_lj_energy` function and sum \n",
    "all the terms together. \n",
    "\n",
    "Hint: You can get the positions of the atoms object with `atoms.positions`\n",
    "\n",
    "Hint: Use `np.sum` to sum over the returned values of `get_lj_energy`"
   ]
  },
  {
   "cell_type": "code",
   "execution_count": null,
   "id": "ae01c4d1",
   "metadata": {},
   "outputs": [],
   "source": [
    "from scipy.spatial.distance import pdist\n",
    "\n",
    "def calculate(atoms, sigma, epsilon):\n",
    "    d = 0 # Find the distances between all atoms\n",
    "    E = 0 # Calculate the Lennard-Jones energy for each bond and sum them up\n",
    "    return E"
   ]
  },
  {
   "cell_type": "code",
   "execution_count": null,
   "id": "d839070e",
   "metadata": {},
   "outputs": [],
   "source": [
    "for r in [0.8, 1.0, 1.2]:\n",
    "\n",
    "    atoms = Atoms('H2', positions=[[0, 0, 0], [r, 0, 0]])\n",
    "    E = calculate(atoms.positions, 2**(-1/6), 1)\n",
    "    print(f'Energy for r = {r:0.2f} is {E:0.2f}')"
   ]
  },
  {
   "cell_type": "markdown",
   "execution_count": null,
   "id": "7f3439b3",
   "metadata": {},
   "outputs": [],
   "source": [
    "### Exercise: Lennard Jones with Object Oriented Programming"
   ]
  },
  {
   "cell_type": "markdown",
   "execution_count": null,
   "id": "58014e69",
   "metadata": {},
   "outputs": [],
   "source": [
    "The code we have written so far is functional; we have created functions that take some input and return output - without \n",
    "any type of state/memory. Yet, the inputs we have passed are not really of the same type - the `Atoms` object is \n",
    "really the variable and `sigma` and `epsilon` are parameters of the function. \n",
    "\n",
    "If is often beneficial to create classes in these types of situations and is very \n",
    "commonly done. "
   ]
  },
  {
   "cell_type": "code",
   "execution_count": null,
   "id": "a226754c",
   "metadata": {},
   "outputs": [],
   "source": [
    "\n",
    "class LennardJones:\n",
    "\n",
    "    def __init__(self, sigma, epsilon):\n",
    "        self.sigma = sigma\n",
    "        self.epsilon = epsilon\n",
    "    \n",
    "    def get_lj_energy(self, r):\n",
    "        # Calculate the Lennard-Jones energy using the class attributes \n",
    "        # self.sigma and self.epsilon. \n",
    "        pass\n",
    "\n",
    "    def calculate(self, atoms):\n",
    "        # Same logic as before, but now we use the class method get_lj_energy.\n",
    "        pass"
   ]
  },
  {
   "cell_type": "markdown",
   "execution_count": null,
   "id": "b7b6c35e",
   "metadata": {},
   "outputs": [],
   "source": [
    "### Exercise: Computing forces"
   ]
  },
  {
   "cell_type": "markdown",
   "execution_count": null,
   "id": "d7da8f04",
   "metadata": {},
   "outputs": [],
   "source": [
    "It is often useful to calculate not only the energy but also the force on each atom. The components \n",
    "of the forces are given by\n",
    "$$\n",
    "F_i^\\alpha = -\\frac{\\partial E}{\\partial x_i^\\alpha}\n",
    "$$\n",
    "\n",
    "Where $i$ indicates the atom and $\\alpha$ denotes either the $x$, $y$ or $z$ dimension. \n",
    "\n",
    "This can be applied to the Lennard Jones expression, but it is cumbersome and \n",
    "more difficult to implement than the potential itself - but if you want to try \n",
    "you can. Note that the potential is not given directly in terms of the coordinates, \n",
    "but rather in terms of the distance between atoms, so that needs to be taken into account.\n",
    "\n",
    "This exercise is very **optional** and probably best left as an extra for the interested. "
   ]
  },
  {
   "cell_type": "markdown",
   "execution_count": null,
   "id": "e0744c03",
   "metadata": {},
   "outputs": [],
   "source": [
    "### Exercise: Lennard Jones with Pytorch"
   ]
  },
  {
   "cell_type": "markdown",
   "execution_count": null,
   "id": "68d391ad",
   "metadata": {},
   "outputs": [],
   "source": [
    "As stepping stone to implementing neural network based potentials we will first \n",
    "look at implementing the Lennard Jones potential using Pytorch.\n",
    "\n",
    "To do so, we should replace all `numpy` or `scipy` functions in our implementation \n",
    "with `torch` functions and any use of arrays from `numpy` should be replaced \n",
    "with `torch.tensor`.\n",
    "\n",
    "One of the main benefits of doing this is that we can calculate forces using \n",
    "*automatic differentiation* the same technique that enables training of neural networks. \n",
    "\n",
    "In the cell below you should fill out the left out code. "
   ]
  },
  {
   "cell_type": "code",
   "execution_count": null,
   "id": "084a1937",
   "metadata": {},
   "outputs": [],
   "source": [
    "\n",
    "import torch\n",
    "\n",
    "class LennardJonesTorch:\n",
    "\n",
    "    def __init__(self, sigma=1.0, epsilon=1.0):\n",
    "        self.sigma = sigma\n",
    "        self.epsilon = epsilon\n",
    "\n",
    "    def atoms_to_tensor(self, atoms):\n",
    "        return torch.tensor(atoms.positions, requires_grad=True)\n",
    "    \n",
    "    def get_lj_energy(self, r):\n",
    "        # Calculate the Lennard-Jones energy using the class attributes \n",
    "        # self.sigma and self.epsilon.\n",
    "        return 0 # Implement this function\n",
    "    \n",
    "    def get_forces(self, energy, positions):\n",
    "        return -torch.autograd.grad(energy, positions, retain_graph=True)[0]\n",
    "\n",
    "    def calculate(self, atoms):\n",
    "        positions = self.atoms_to_tensor(atoms)\n",
    "        return self.forward(positions)\n",
    "\n",
    "    def forward(self, positions):\n",
    "\n",
    "        # Calculate the pairwise distances\n",
    "        d = # Implement this - using torch.pdist\n",
    "\n",
    "\n",
    "        E = torch.sum(self.get_lj_energy(d))\n",
    "        F = self.get_forces(E, positions)\n",
    "\n",
    "        E = E.detach().numpy()\n",
    "        F = F.detach().numpy() \n",
    "        return E, F"
   ]
  },
  {
   "cell_type": "code",
   "execution_count": null,
   "id": "a0aaf782",
   "metadata": {},
   "outputs": [],
   "source": [
    "from ase import Atoms\n",
    "\n",
    "LJT = LennardJonesTorch(sigma=2**(-1/6))\n",
    "\n",
    "for r in [0.8, 1.0, 1.2]:\n",
    "    atoms = Atoms('H2', positions=[[0.0, 0.0, 0.0], [r, 0.0, 0.0]])\n",
    "\n",
    "    energy, forces = LJT.calculate(atoms)\n",
    "    \n",
    "    print(f'r = {r:0.2f}')\n",
    "    print(f'\\tEnergy = {energy:0.2f}')\n",
    "    print(f'\\t Left atom force = {forces[0][0]:0.2f}')\n",
    "    print(f'\\t Right atom force = {forces[1][0]:0.2f}')"
   ]
  },
  {
   "cell_type": "markdown",
   "execution_count": null,
   "id": "0695fd32",
   "metadata": {},
   "outputs": [],
   "source": [
    "You should find the following; \n",
    "\n",
    "- At `r = 0.80` there is a large repulsive force between the atoms as the bond length is significantly smaller than the equilibrium. \n",
    "- At `r = 1.00` the is no force as the atoms are at the equilibrium bond length. \n",
    "- At `r = 12.0` there is an attractive force between the atoms as the bond is now stretched beyond the equilibrium."
   ]
  },
  {
   "cell_type": "markdown",
   "execution_count": null,
   "id": "ab3eb7db",
   "metadata": {},
   "outputs": [],
   "source": [
    "### Exercise: Using atomic forces"
   ]
  },
  {
   "cell_type": "markdown",
   "execution_count": null,
   "id": "d70cb1bb",
   "metadata": {},
   "outputs": [],
   "source": [
    "One common use case of atomic forces is local optimization or 'relaxation'. \n",
    "Here the energy is minimized by moving the atoms according to the forces, \n",
    "this is analagous to a ball rolling down a hill to find a \n",
    "position that minimizes the gravitational potential energy. \n",
    "\n",
    "ASE makes this very easy, the code below converts your `LennardJonesTorch` \n",
    "to an `ase` `Calculator` such that it can interface with the rest of the functionality. "
   ]
  },
  {
   "cell_type": "code",
   "execution_count": null,
   "id": "02f00161",
   "metadata": {},
   "outputs": [],
   "source": [
    "from imlms import get_calculator_from_class\n",
    "\n",
    "LJT = get_calculator_from_class(LennardJonesTorch)(sigma=1.0, epsilon=1.0)\n",
    "\n",
    "atoms = Atoms('H2', positions=[[0.0, 0.0, 0.0], [1.5, 0.0, 0.0]])\n",
    "atoms.calc = LJT\n",
    "E = atoms.get_potential_energy()\n",
    "print(E)"
   ]
  },
  {
   "cell_type": "markdown",
   "execution_count": null,
   "id": "5fa26b23",
   "metadata": {},
   "outputs": [],
   "source": [
    "Read this section on [optimizers](https://wiki.fysik.dtu.dk/ase/gettingstarted/tut02_h2o_structure/h2o.html#optimizers) \n",
    "from the `ase` documentation and relax a small molecule, e.g. H2 with your Lennard Jones potential."
   ]
  },
  {
   "cell_type": "code",
   "execution_count": null,
   "id": "fa15229a",
   "metadata": {},
   "outputs": [],
   "source": [
    "from ase.optimize import BFGS\n",
    "\n",
    "atoms = Atoms('H2', positions=[[0.0, 0.0, 0.0], [1.5, 0.0, 0.0]])\n",
    "atoms.calc = LJT\n",
    "\n",
    "optimizer = 0 # Instantiate the BFGS optimizer\n",
    "\n",
    "# Run the optimization using the .run() method.\n",
    "# your code here\n",
    "\n",
    "# Final potential energy\n",
    "print(atoms.get_potential_energy())"
   ]
  },
  {
   "cell_type": "markdown",
   "execution_count": null,
   "id": "f6aa3fe7",
   "metadata": {},
   "outputs": [],
   "source": [
    "The cell below creates a random cluster of ten Helium atoms and relaxes it using our \n",
    "Lennard Jones model written in Pytorch."
   ]
  },
  {
   "cell_type": "code",
   "execution_count": null,
   "id": "35e100e7",
   "metadata": {},
   "outputs": [],
   "source": [
    "import matplotlib.pyplot as plt\n",
    "from imlms.potentials.get_random_cluster import get_random_cluster, plot_atoms, plot_cell\n",
    "from ase.constraints import FixedPlane\n",
    "\n",
    "atoms = get_random_cluster()\n",
    "\n",
    "optimized = atoms.copy()\n",
    "optimized.calc = LJT\n",
    "optimized.set_constraint(FixedPlane(np.arange(len(atoms)), [0, 0, 1])) # Fix the z-coordinate\n",
    "optimizer = BFGS(optimized, logfile=None)\n",
    "optimizer.run(fmax=1e-3)\n",
    "optimized.center() # Center the atoms\n",
    "\n",
    "fig, axes = plt.subplots(1, 2, figsize=(6, 3))\n",
    "\n",
    "for ax, atoms in zip(axes, [atoms, optimized]):\n",
    "    plot_atoms(ax, atoms)\n",
    "    plot_cell(ax, atoms.cell)\n"
   ]
  }
 ],
 "metadata": {},
 "nbformat": 4,
 "nbformat_minor": 5
}
