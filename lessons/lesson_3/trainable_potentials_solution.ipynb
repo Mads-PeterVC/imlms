{
 "cells": [
  {
   "cell_type": "code",
   "execution_count": null,
   "id": "497cde9f",
   "metadata": {},
   "outputs": [],
   "source": [
    "%%capture install\n",
    "try:\n",
    "  import imlms\n",
    "  print('Already installed')\n",
    "except:\n",
    "  %pip install git+https://github.com/Mads-PeterVC/imlms"
   ]
  },
  {
   "cell_type": "code",
   "execution_count": null,
   "id": "0eb58995",
   "metadata": {},
   "outputs": [],
   "source": [
    "print(install.stdout.splitlines()[-1])"
   ]
  },
  {
   "cell_type": "code",
   "execution_count": 135,
   "id": "c69c692b",
   "metadata": {},
   "outputs": [],
   "source": [
    "import torch\n",
    "import matplotlib.pyplot as plt\n",
    "import numpy as np"
   ]
  },
  {
   "cell_type": "markdown",
   "id": "20236aee",
   "metadata": {},
   "source": [
    "# Trainable Interatomic Potentials"
   ]
  },
  {
   "cell_type": "markdown",
   "id": "31acee47",
   "metadata": {},
   "source": [
    "### Primer: A few more torch tips & tricks."
   ]
  },
  {
   "cell_type": "markdown",
   "id": "b8583dd3",
   "metadata": {},
   "source": [
    "So far when when trained models using gradient descent we have done it in the most \n",
    "explicit way - but not the most convenient."
   ]
  },
  {
   "cell_type": "code",
   "execution_count": 80,
   "id": "830e70f7",
   "metadata": {},
   "outputs": [],
   "source": [
    "class LinearModel(torch.nn.Module):\n",
    "    def __init__(self, a, b):\n",
    "        super(LinearModel, self).__init__()\n",
    "        self.a = torch.nn.Parameter(torch.tensor(a))\n",
    "        self.b = torch.nn.Parameter(torch.tensor(b))\n",
    "    def forward(self, x):\n",
    "        return self.a * x + self.b"
   ]
  },
  {
   "cell_type": "code",
   "execution_count": 81,
   "id": "b32de0bf",
   "metadata": {},
   "outputs": [],
   "source": [
    "from imlms.torch import get_example_data\n",
    "\n",
    "# Same data as in the previous example from lesson 2\n",
    "X, y = get_example_data()"
   ]
  },
  {
   "cell_type": "markdown",
   "id": "0c1d5829",
   "metadata": {},
   "source": [
    "Again we want to train the model, but this time we use\n",
    "\n",
    "- An `optimizer`: This class handles everything about updating the model parameters. \n",
    "- A `loss`-function, because we are use the very common mean-squared-error we can take that directly from torch"
   ]
  },
  {
   "cell_type": "code",
   "execution_count": 82,
   "id": "1bdfeac1",
   "metadata": {},
   "outputs": [
    {
     "name": "stdout",
     "output_type": "stream",
     "text": [
      "Loss: 0.3067587614059448\n",
      "Loss: 0.3067587614059448\n",
      "Loss: 0.3067587614059448\n",
      "Final model: a=1.79, b=-0.01\n"
     ]
    }
   ],
   "source": [
    "# Initialize the model \n",
    "model = LinearModel(a=0.5, b=0.5)\n",
    "y_pred_initial = model(X) # Predictions with the initial model\n",
    "\n",
    "# Create an optimizer, the optimizer is told the parameters to optimize e.g. all the parameters of the model\n",
    "optimizer = torch.optim.SGD(model.parameters(), lr=0.01)\n",
    "\n",
    "# If we want to optimize only a subset of the parameters we can do so by passing \n",
    "# a list of parameters to the optimizer. \n",
    "# For example we can optimize only the parameter a of the model, controlling the slope.\n",
    "# optimizer = torch.optim.SGD([model.a], lr=0.01) # <--- Try this too!!\n",
    "\n",
    "# Define the loss function\n",
    "loss_fn = torch.nn.MSELoss()\n",
    "\n",
    "# Run the optimization loop\n",
    "for i in range(300):\n",
    "\n",
    "    # Zero the gradients - this is needed because PyTorch otherwise accumulates the gradients.\n",
    "    optimizer.zero_grad()\n",
    "\n",
    "    # Forward pass: Make predictions and calculate the loss\n",
    "    y_pred = model(X)\n",
    "    loss = loss_fn(y_pred, y)\n",
    "\n",
    "    # Backward pass: Calculate the gradients - this is instead of the \n",
    "    # torch.autograd.grad() function we used in the previous example\n",
    "    loss.backward()\n",
    "\n",
    "    # Update the parameters by taking a step with the optimizer\n",
    "    optimizer.step()\n",
    "\n",
    "    if i % 100 == 0:\n",
    "        print(f'Loss: {l.item()}')\n",
    "\n",
    "y_pred_final = model(X)\n",
    "\n",
    "print(f'Final model: a={model.a.item():0.2f}, b={model.b.item():0.2f}')"
   ]
  },
  {
   "cell_type": "code",
   "execution_count": 83,
   "id": "d960b332",
   "metadata": {},
   "outputs": [
    {
     "data": {
      "text/plain": [
       "<matplotlib.legend.Legend at 0x16d43ecc0>"
      ]
     },
     "execution_count": 83,
     "metadata": {},
     "output_type": "execute_result"
    },
    {
     "data": {
      "image/png": "[encoded data removed]",
      "text/plain": [
       "<Figure size 400x400 with 1 Axes>"
      ]
     },
     "metadata": {},
     "output_type": "display_data"
    }
   ],
   "source": [
    "fig, ax = plt.subplots(figsize=(4, 4))\n",
    "\n",
    "with torch.no_grad():\n",
    "    ax.plot(X.detach().numpy(), y_pred_initial.detach().numpy(), label=\"Initial\")\n",
    "    ax.plot(X.detach().numpy(), y_pred_final.detach().numpy(), label=\"Final\")\n",
    "    ax.scatter(X.detach().numpy(), y.detach().numpy(), label=\"Data\")\n",
    "\n",
    "ax.legend()"
   ]
  },
  {
   "cell_type": "markdown",
   "id": "449a742a",
   "metadata": {},
   "source": [
    "### Example: Trainable Lennard Jones Potential"
   ]
  },
  {
   "cell_type": "markdown",
   "id": "1e752879",
   "metadata": {},
   "source": [
    "What we want to do now is to make the parameters `sigma` and `epsilon` learnable from \n",
    "data. This will enable us to fit the Lennard Jones potential as best as possible to \n",
    "a given dataset. \n",
    "\n",
    "To do this we will change a few things from our `LennardJonesTorch` class, \n",
    "we will make another called `LennardJonesModule` with these changes.\n",
    "\n",
    "1. `LennardJonesModule` should *inherit* from `torch.nn.Module`. \n",
    "2. The parameters should be set as `torch.nn.Parameter` instances. "
   ]
  },
  {
   "cell_type": "code",
   "execution_count": 136,
   "id": "bceffd96",
   "metadata": {},
   "outputs": [],
   "source": [
    "class LennardJonesModule(torch.nn.Module):\n",
    "\n",
    "    def __init__(self, sigma=1.0, epsilon=1.0):\n",
    "        super().__init__()\n",
    "        self.sigma = torch.nn.Parameter(torch.tensor(sigma))\n",
    "        self.epsilon = torch.nn.Parameter(torch.tensor(epsilon))\n",
    "\n",
    "    def get_lj_energy(self, r):\n",
    "        # Calculate the Lennard-Jones energy using the class attributes \n",
    "        # self.sigma and self.epsilon.\n",
    "        return 4 * self.epsilon * ((self.sigma/r)**12 - (self.sigma/r)**6)\n",
    "\n",
    "    def forward(self, distances):\n",
    "        \"\"\"\n",
    "        The 'distances'-tensor has shape (N, B) where N is the number of example\n",
    "        configurations and B is the number of bonds in each configuration. \n",
    "        \"\"\"\n",
    "        # Sum the Lennard-Jones energy over all bonds in each configuration to get the total energy.\n",
    "        E = torch.sum(self.get_lj_energy(distances), axis=1)\n",
    "        return E"
   ]
  },
  {
   "cell_type": "markdown",
   "id": "5b78302d",
   "metadata": {},
   "source": [
    "I have created a function that produces a dataset"
   ]
  },
  {
   "cell_type": "code",
   "execution_count": 137,
   "id": "9d7e032c",
   "metadata": {},
   "outputs": [
    {
     "name": "stdout",
     "output_type": "stream",
     "text": [
      "R.shape = torch.Size([25, 1])\n",
      "y.shape = torch.Size([25])\n"
     ]
    }
   ],
   "source": [
    "from imlms.potentials import get_simple_lj_dataset\n",
    "\n",
    "# # Generate a dataset\n",
    "R, y = get_simple_lj_dataset(n_samples=25)\n",
    "\n",
    "print(f\"{R.shape = }\")\n",
    "print(f\"{y.shape = }\")"
   ]
  },
  {
   "cell_type": "markdown",
   "id": "709139a6",
   "metadata": {},
   "source": [
    "The dataset contains 25 examples of dimers where\n",
    "\n",
    "- `R`: The bond distances of the example configuration\n",
    "- `y`: The total energy of the configuration"
   ]
  },
  {
   "cell_type": "code",
   "execution_count": 89,
   "id": "9e6b4f29",
   "metadata": {},
   "outputs": [
    {
     "name": "stdout",
     "output_type": "stream",
     "text": [
      "Epoch 0: loss = 3.900768518447876\n",
      "Epoch 1000: loss = 2.835242041143715e-09\n",
      "Epoch 2000: loss = 2.8182347566740873e-09\n",
      "Epoch 3000: loss = 2.8986275601994294e-09\n",
      "Epoch 4000: loss = 2.835242041143715e-09\n",
      "Epoch 5000: loss = 2.9153290892480754e-09\n",
      "Epoch 6000: loss = 2.9568127946077993e-09\n",
      "Epoch 7000: loss = 0.0003447983181104064\n",
      "Epoch 8000: loss = 6.4991030335193045e-09\n",
      "Epoch 9000: loss = 2.5738760086824186e-05\n"
     ]
    }
   ],
   "source": [
    "sigma_init = np.random.uniform(1.0, 2.0)\n",
    "epsilon_init = np.random.uniform(1.0, 2.0)\n",
    "\n",
    "model = LennardJonesModule(sigma=sigma_init, epsilon=epsilon_init)\n",
    "\n",
    "# Define the optimizer: Different optimizer than in the previous example, but the same principle\n",
    "optimizer = torch.optim.Adam(model.parameters(), lr=1e-2)\n",
    "\n",
    "# Define the loss function\n",
    "loss_fn = torch.nn.MSELoss()\n",
    "\n",
    "# Train the model\n",
    "n_epochs = 10000\n",
    "\n",
    "for epoch in range(n_epochs):\n",
    "\n",
    "    # Zero the gradients\n",
    "    optimizer.zero_grad()\n",
    "\n",
    "    # Forward pass\n",
    "    loss = 0\n",
    "    y_pred = model(R)\n",
    "    loss = loss_fn(y_pred, y)\n",
    "\n",
    "    # Backward pass\n",
    "    loss.backward()\n",
    "\n",
    "    # Optimize\n",
    "    optimizer.step()\n",
    "\n",
    "    if epoch % 1000 == 0:\n",
    "        print(f\"Epoch {epoch}: loss = {loss.item()}\")"
   ]
  },
  {
   "cell_type": "markdown",
   "id": "49766132",
   "metadata": {},
   "source": [
    "If the loss doesn't really get very low try running the cell again."
   ]
  },
  {
   "cell_type": "code",
   "execution_count": 90,
   "id": "5f2c6bb3",
   "metadata": {},
   "outputs": [
    {
     "name": "stdout",
     "output_type": "stream",
     "text": [
      "sigma: 1.7828993797302246\n",
      "epsilon: 1.065826654434204\n"
     ]
    }
   ],
   "source": [
    "for name, param in model.named_parameters():\n",
    "    print(f\"{name}: {param.data.item()}\")"
   ]
  },
  {
   "cell_type": "code",
   "execution_count": 91,
   "id": "3d458dda",
   "metadata": {},
   "outputs": [
    {
     "data": {
      "text/plain": [
       "Text(0, 0.5, 'E [eV]')"
      ]
     },
     "execution_count": 91,
     "metadata": {},
     "output_type": "execute_result"
    },
    {
     "data": {
      "image/png": "[encoded data removed]",
      "text/plain": [
       "<Figure size 350x350 with 1 Axes>"
      ]
     },
     "metadata": {},
     "output_type": "display_data"
    }
   ],
   "source": [
    "fig, ax = plt.subplots(figsize=(3.5, 3.5))\n",
    "\n",
    "with torch.no_grad():\n",
    "    R_cont = torch.linspace(R.min(), R.max(), 100).reshape(-1, 1)\n",
    "    y_pred = model(R_cont)\n",
    "    ax.plot(R_cont, y_pred, label='Predicted')\n",
    "\n",
    "# Plot the true vs predicted energies\n",
    "r_flat = R.flatten()\n",
    "y_flat = y.flatten()\n",
    "ax.plot(r_flat, y_flat, 'o')\n",
    "\n",
    "ax.set_xlabel('r [Å]')\n",
    "ax.set_ylabel('E [eV]')"
   ]
  },
  {
   "cell_type": "markdown",
   "id": "027c88c1",
   "metadata": {},
   "source": [
    "### Exercise: Learning from clusters."
   ]
  },
  {
   "cell_type": "markdown",
   "id": "a38eb6f9",
   "metadata": {},
   "source": [
    "In the previous example the training data we used consisted of dimers and our model is a two-body model, \n",
    "so we could easily fit the data. \n",
    "\n",
    "Now things will be a little more difficult, our new dataset with consist of clusters with 12 atoms, \n",
    "but we still want to fit it with the same model."
   ]
  },
  {
   "cell_type": "code",
   "execution_count": 138,
   "id": "76c29a9b",
   "metadata": {},
   "outputs": [],
   "source": [
    "from imlms.potentials.load_cluster_data import get_cluster_data"
   ]
  },
  {
   "cell_type": "code",
   "execution_count": 139,
   "id": "4a7b873e",
   "metadata": {},
   "outputs": [
    {
     "name": "stdout",
     "output_type": "stream",
     "text": [
      "X.shape = torch.Size([300, 12, 2])\n",
      "R.shape = torch.Size([300, 66])\n",
      "E.shape = torch.Size([300])\n"
     ]
    }
   ],
   "source": [
    "X, R, E = get_cluster_data(train=True)\n",
    "\n",
    "print(f\"{X.shape = }\")\n",
    "print(f\"{R.shape = }\")\n",
    "print(f\"{E.shape = }\")"
   ]
  },
  {
   "cell_type": "code",
   "execution_count": 146,
   "id": "495a49b6",
   "metadata": {},
   "outputs": [
    {
     "name": "stdout",
     "output_type": "stream",
     "text": [
      "Epoch 0: loss = 13265.8818359375\n",
      "Epoch 1000: loss = 6.253223896026611\n",
      "Epoch 2000: loss = 6.245672702789307\n",
      "Epoch 3000: loss = 6.24567174911499\n",
      "Epoch 4000: loss = 6.245674133300781\n",
      "Epoch 5000: loss = 6.2456746101379395\n",
      "Epoch 6000: loss = 6.245673179626465\n",
      "Epoch 7000: loss = 6.2456746101379395\n",
      "Epoch 8000: loss = 6.245673656463623\n",
      "Epoch 9000: loss = 6.245674133300781\n"
     ]
    }
   ],
   "source": [
    "sigma_init = np.random.uniform(1.0, 2.0)\n",
    "epsilon_init = np.random.uniform(1.0, 2.0)\n",
    "\n",
    "model = LennardJonesModule(sigma=sigma_init, epsilon=epsilon_init)\n",
    "\n",
    "# Define the optimizer\n",
    "optimizer = torch.optim.Adam(model.parameters(), lr=1e-2)\n",
    "\n",
    "# Define the loss function\n",
    "loss_fn = torch.nn.MSELoss()\n",
    "\n",
    "# Train the model\n",
    "n_epochs = 10000\n",
    "\n",
    "for epoch in range(n_epochs):\n",
    "\n",
    "    # Zero the gradients\n",
    "    optimizer.zero_grad()\n",
    "\n",
    "    # Forward pass\n",
    "    y_pred = model(R)\n",
    "    loss = loss_fn(y_pred, E)\n",
    "\n",
    "    # Backward pass\n",
    "    loss.backward()\n",
    "\n",
    "    # Optimize\n",
    "    optimizer.step()\n",
    "\n",
    "    if epoch % 1000 == 0:\n",
    "        print(f\"Epoch {epoch}: loss = {loss.item()}\")"
   ]
  },
  {
   "cell_type": "code",
   "execution_count": 147,
   "id": "1fcee18c",
   "metadata": {},
   "outputs": [],
   "source": [
    "X_test, R_test, E_test = get_cluster_data(train=False)\n",
    "\n",
    "with torch.no_grad():\n",
    "    E_train_pred = model(R)\n",
    "    E_test_pred = model(R_test)"
   ]
  },
  {
   "cell_type": "markdown",
   "id": "4abdac6d",
   "metadata": {},
   "source": [
    "In order to visualize the learning process we need to do something new this time, \n",
    "as the dataset isn't a nice 1D function we can just plot.\n",
    "\n",
    "Instead we will create a *parity plot* where each for each datapoint we plot \n",
    "the true value vs the predicted value. If the model is perfect all the points \n",
    "should fall on a straight line. \n",
    "\n",
    "Another thing we are doing now is that we will make plots for the dataset we \n",
    "trained on and a dataset that we kept hidden from the model. This will help us \n",
    "detect overfitting."
   ]
  },
  {
   "cell_type": "code",
   "execution_count": 148,
   "id": "53177dd0",
   "metadata": {},
   "outputs": [
    {
     "data": {
      "image/png": "[encoded data removed]",
      "text/plain": [
       "<Figure size 600x300 with 2 Axes>"
      ]
     },
     "metadata": {},
     "output_type": "display_data"
    }
   ],
   "source": [
    "fig, axes = plt.subplots(1, 2, figsize=(6, 3), layout='constrained')\n",
    "\n",
    "labels = ['Train', 'Test']\n",
    "for ax, E_true, E_pred, label in zip(axes, [E, E_test], [E_train_pred, E_test_pred], labels):\n",
    "\n",
    "    ax.plot(E_true, E_pred, 'o')\n",
    "\n",
    "    ax.set_xlabel('True energy [eV]')\n",
    "    ax.set_ylabel('Predicted energy [eV]')\n",
    "\n",
    "    E_min = min(E.min(), E_pred.min()) - 1\n",
    "    E_max = max(E.max(), E_pred.max()) + 1    \n",
    "    ax.plot([E_min, E_max], [E_min, E_max], 'k--')\n",
    "    ax.set_xlim(E_min, E_max)\n",
    "    ax.set_ylim(E_min, E_max)\n",
    "\n",
    "    ax.set_title(label)"
   ]
  },
  {
   "cell_type": "markdown",
   "id": "381e7566",
   "metadata": {},
   "source": [
    "We can generally not get a perfect fit, the cloud of points certainly follows the straight line \n",
    "but there are lots of places where the predictions are very wrong! "
   ]
  },
  {
   "cell_type": "markdown",
   "id": "0770026a",
   "metadata": {},
   "source": [
    "### Exercise: More expressive potential"
   ]
  },
  {
   "cell_type": "markdown",
   "id": "2bd3f95a",
   "metadata": {},
   "source": [
    "Our Lennard Jones potential from above is very limited in its form, so we can try making a \n",
    "model that has a little more freedom. \n",
    "\n",
    "In this case I will choose that we will add a number of Gaussians with some learnable parameters \n",
    "to the Lennard Jones predictions. To do so we will implemenet a `GaussianModule`-class. \n",
    "\n",
    "Recall that a Gaussian function is defined by \n",
    "\n",
    "$$\n",
    "f(x) = A \\exp{\\left(-\\frac{(r-r_0)^2}{2\\sigma^2}\\right)}\n",
    "$$\n",
    "Where the parameters are\n",
    "\n",
    "- $A$: Controlling the amplitude\n",
    "- $r_0$: Controlling the location\n",
    "- $\\sigma$: Controlling the width."
   ]
  },
  {
   "cell_type": "code",
   "execution_count": 128,
   "id": "953d5e08",
   "metadata": {},
   "outputs": [],
   "source": [
    "class GaussianModule(torch.nn.Module):\n",
    "\n",
    "    def __init__(self, r0, A, sigma):\n",
    "        super().__init__()\n",
    "        self.r0 = torch.nn.Parameter(torch.tensor(r0), requires_grad=False)\n",
    "        self.A = torch.nn.Parameter(torch.tensor(A))\n",
    "        self.sigma = torch.nn.Parameter(torch.tensor(sigma))\n",
    "\n",
    "    def forward(self, r):\n",
    "        return self.A * torch.exp(-(r-self.r0)**2/(2*self.sigma**2)).sum(axis=1)"
   ]
  },
  {
   "cell_type": "markdown",
   "id": "68731a05",
   "metadata": {},
   "source": [
    "Next we can create a new model that uses both our `LennardJonesModule` and our `GaussianModule`. \n",
    "\n",
    "Torch makes this simple, we can just set the modules as properties of our new class"
   ]
  },
  {
   "cell_type": "code",
   "execution_count": 129,
   "id": "3f40ebee",
   "metadata": {},
   "outputs": [],
   "source": [
    "class Model(torch.nn.Module):\n",
    "\n",
    "    def __init__(self, N_basis, r_max, sigma_lj, epsilon_lj):\n",
    "        super().__init__()\n",
    "        # Create Gaussians with centers from 0 to r_max\n",
    "        self.rbf = torch.nn.ModuleList([GaussianModule(r0.item(), 0.1, 0.1) for r0 in torch.linspace(0, r_max, N_basis)])\n",
    "\n",
    "        # Create the Lennard-Jones module\n",
    "        self.lj = LennardJonesModule(sigma=sigma_lj, epsilon=epsilon_lj)\n",
    "\n",
    "    def forward(self, R):\n",
    "        # Calculate the Lennard-Jones energy\n",
    "        E = self.lj(R)\n",
    "\n",
    "        # Calculate the contribution from each Gaussian\n",
    "        for rbf in self.rbf:\n",
    "            E += rbf(R)\n",
    "        return E"
   ]
  },
  {
   "cell_type": "markdown",
   "id": "ca253922",
   "metadata": {},
   "source": [
    "The training loop is the same as before"
   ]
  },
  {
   "cell_type": "code",
   "execution_count": 130,
   "id": "d7f2d577",
   "metadata": {},
   "outputs": [
    {
     "name": "stdout",
     "output_type": "stream",
     "text": [
      "Epoch 0: loss = 6635.41064453125\n",
      "Epoch 1000: loss = 0.6861631870269775\n",
      "Epoch 2000: loss = 0.17484445869922638\n",
      "Epoch 3000: loss = 0.07103945314884186\n",
      "Epoch 4000: loss = 0.05116548389196396\n"
     ]
    }
   ],
   "source": [
    "X, R, E = get_cluster_data(train=True)\n",
    "\n",
    "sigma_init = 1.0\n",
    "epsilon_init = 1.0\n",
    "\n",
    "model = Model(N_basis=10, r_max=3.0, sigma_lj=sigma_init, epsilon_lj=epsilon_init)\n",
    "\n",
    "# Define the optimizer\n",
    "optimizer = torch.optim.Adam(model.parameters(), lr=1e-2)\n",
    "\n",
    "# Define the loss function\n",
    "loss_fn = torch.nn.MSELoss()\n",
    "\n",
    "# Train the model\n",
    "n_epochs = 5000\n",
    "\n",
    "for epoch in range(n_epochs):\n",
    "\n",
    "    # Zero the gradients\n",
    "    optimizer.zero_grad()\n",
    "\n",
    "    # Forward pass\n",
    "    loss = 0\n",
    "    y_pred = model(R)\n",
    "    loss = loss_fn(y_pred, E)\n",
    "\n",
    "    # Backward pass\n",
    "    loss.backward()\n",
    "\n",
    "    # Optimize\n",
    "    optimizer.step()\n",
    "\n",
    "    if epoch % 1000 == 0:\n",
    "        print(f\"Epoch {epoch}: loss = {loss.item()}\")"
   ]
  },
  {
   "cell_type": "code",
   "execution_count": 131,
   "id": "8d041578",
   "metadata": {},
   "outputs": [],
   "source": [
    "X_test, R_test, E_test = get_cluster_data(train=False)\n",
    "\n",
    "with torch.no_grad(): \n",
    "    E_train_pred = model(R)\n",
    "    E_test_pred = model(R_test)"
   ]
  },
  {
   "cell_type": "markdown",
   "id": "29ff8cc1",
   "metadata": {},
   "source": [
    "We again make parity-plots"
   ]
  },
  {
   "cell_type": "code",
   "execution_count": 132,
   "id": "661c6bfe",
   "metadata": {},
   "outputs": [
    {
     "data": {
      "image/png": "[encoded data removed]",
      "text/plain": [
       "<Figure size 600x300 with 2 Axes>"
      ]
     },
     "metadata": {},
     "output_type": "display_data"
    }
   ],
   "source": [
    "fig, axes = plt.subplots(1, 2, figsize=(6, 3), layout='constrained')\n",
    "\n",
    "for ax, E_true, E_pred in zip(axes, [E, E_test], [E_train_pred, E_test_pred]):\n",
    "\n",
    "    ax.plot(E_true, E_pred, 'o')\n",
    "\n",
    "    ax.set_xlabel('True energy [eV]')\n",
    "    ax.set_ylabel('Predicted energy [eV]')\n",
    "\n",
    "    E_min = min(E.min(), E_pred.min()) - 1\n",
    "    E_max = max(E.max(), E_pred.max()) + 1\n",
    "\n",
    "    ax.plot([E_min, E_max], [E_min, E_max], 'k--')\n",
    "    ax.set_xlim(E_min, E_max)\n",
    "    ax.set_ylim(E_min, E_max)"
   ]
  },
  {
   "cell_type": "markdown",
   "id": "9fe5358c",
   "metadata": {},
   "source": [
    "You should be able to get parity plots that are nearly perfect, with all points being very close to the straight line."
   ]
  },
  {
   "cell_type": "markdown",
   "id": "709e5e15",
   "metadata": {},
   "source": [
    "We can inspect the form of the potential that our model has learned"
   ]
  },
  {
   "cell_type": "code",
   "execution_count": 134,
   "id": "23111d66",
   "metadata": {},
   "outputs": [
    {
     "data": {
      "image/png": "[encoded data removed]",
      "text/plain": [
       "<Figure size 350x350 with 1 Axes>"
      ]
     },
     "metadata": {},
     "output_type": "display_data"
    }
   ],
   "source": [
    "fig, ax = plt.subplots(figsize=(3.5, 3.5))\n",
    "\n",
    "R = torch.linspace(0.8, 6.0, 100)\n",
    "\n",
    "with torch.no_grad():\n",
    "\n",
    "    E = model(R.reshape(-1, 1))\n",
    "    ax.plot(R, E)\n",
    "\n",
    "    ax.set_xlabel('r [Å]')\n",
    "    ax.set_ylabel('E [eV]')"
   ]
  },
  {
   "cell_type": "code",
   "execution_count": null,
   "id": "7ddedbe8",
   "metadata": {},
   "outputs": [],
   "source": []
  }
 ],
 "metadata": {},
 "nbformat": 4,
 "nbformat_minor": 5
}
