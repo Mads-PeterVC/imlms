{
 "cells": [
  {
   "cell_type": "code",
   "execution_count": null,
   "id": "36893824",
   "metadata": {},
   "outputs": [],
   "source": [
    "%%capture install\n",
    "try:\n",
    "  import imlms\n",
    "  print('Already installed')\n",
    "except:\n",
    "  %pip install git+https://github.com/Mads-PeterVC/imlms"
   ]
  },
  {
   "cell_type": "code",
   "execution_count": null,
   "id": "47561b57",
   "metadata": {},
   "outputs": [],
   "source": [
    "print(install.stdout.splitlines()[-1])"
   ]
  },
  {
   "cell_type": "markdown",
   "execution_count": null,
   "id": "f2c0e978",
   "metadata": {},
   "outputs": [],
   "source": [
    "# Atomic Simulation Environment"
   ]
  },
  {
   "cell_type": "markdown",
   "execution_count": null,
   "id": "aabdbd7b",
   "metadata": {},
   "outputs": [],
   "source": [
    "An atomic configuration is defined by \n",
    "\n",
    "- The Cartesian positions of atoms\n",
    "- The atomic species \n",
    "- A simulation cell (possibly with periodic boundary conditions)\n",
    "\n",
    "So we could define a hydrogen molecule like so"
   ]
  },
  {
   "cell_type": "code",
   "execution_count": null,
   "id": "86bf1f64",
   "metadata": {},
   "outputs": [],
   "source": [
    "positions = [[4.5, 5, 5], [5.5, 5, 5]]\n",
    "numbers = [1, 1]\n",
    "cell = [[10, 0, 0], [0, 10.0, 0], [0, 0, 10.0]] # 3x3 matrix, each row is a cell vector."
   ]
  },
  {
   "cell_type": "markdown",
   "execution_count": null,
   "id": "d92f13cd",
   "metadata": {},
   "outputs": [],
   "source": [
    "This is however quite clumsy, there's nothing in the code that keeps this three \n",
    "variables together so we would need to always make to use the correct three \n",
    "together. \n",
    "\n",
    "We could put them in a tuple, "
   ]
  },
  {
   "cell_type": "code",
   "execution_count": null,
   "id": "9219b74e",
   "metadata": {},
   "outputs": [],
   "source": [
    "molecule = (positions, numbers, cell)"
   ]
  },
  {
   "cell_type": "markdown",
   "execution_count": null,
   "id": "5778006b",
   "metadata": {},
   "outputs": [],
   "source": [
    "Which is already an improvement, however we may leverage object-oriented spirit of Python \n",
    "and define a custom class that contains these variables.\n",
    "Luckily, others have done this for us and this is, part of, what the `ase` package provides."
   ]
  },
  {
   "cell_type": "code",
   "execution_count": null,
   "id": "9986e329",
   "metadata": {},
   "outputs": [],
   "source": [
    "from ase import Atoms\n",
    "\n",
    "molecule = Atoms(positions=[[4.5, 5, 5], [5.5, 5, 5]], \n",
    "                 numbers=[1, 1],\n",
    "                #  symbols='H2' # Alternative to numbers\n",
    "                 cell=[10, 10, 10], # ASE assumes a cubic cell when just given a list of 3 numbers. \n",
    "                 pbc=[False, False, False]) # The cell is not periodic in any direction. pbc = Periodic Boundary Conditions"
   ]
  },
  {
   "cell_type": "markdown",
   "execution_count": null,
   "id": "761e60a9",
   "metadata": {},
   "outputs": [],
   "source": [
    "This also allows us to benefit from other utility of `ase`"
   ]
  },
  {
   "cell_type": "code",
   "execution_count": null,
   "id": "5235920b",
   "metadata": {},
   "outputs": [],
   "source": [
    "from ase.visualize import view\n",
    "\n",
    "view(molecule, viewer='x3d')"
   ]
  },
  {
   "cell_type": "markdown",
   "execution_count": null,
   "id": "36def3bd",
   "metadata": {},
   "outputs": [],
   "source": [
    "### Exercise: Water molecule"
   ]
  },
  {
   "cell_type": "markdown",
   "execution_count": null,
   "id": "ee81fbdb",
   "metadata": {},
   "outputs": [],
   "source": [
    "Use `ase` to define a water molecule. \n",
    "\n",
    "Hint: You can look up the oxygen-hydrogen bond length and the angle between the hydrogens [online](https://en.wikipedia.org/wiki/Water#/media/File:H2O_2D_labelled.svg) and use \n",
    "those to determine the positions of the three atoms. \n",
    "\n",
    "You may choose the computational cell yourself."
   ]
  },
  {
   "cell_type": "code",
   "execution_count": null,
   "id": "2d523f0b",
   "metadata": {},
   "outputs": [],
   "source": [
    "# Your code here"
   ]
  },
  {
   "cell_type": "markdown",
   "execution_count": null,
   "id": "0b3611e1",
   "metadata": {},
   "outputs": [],
   "source": [
    "### Exercise: Two water molecules"
   ]
  },
  {
   "cell_type": "markdown",
   "execution_count": null,
   "id": "a027e11d",
   "metadata": {},
   "outputs": [],
   "source": [
    "Use the water molecule you defined before to make a cell containing two \n",
    "water molecules. \n",
    "\n",
    "You can use \n",
    "```\n",
    "atoms_combined = atoms_1 + atoms_2 \n",
    "```\n",
    "Where `atoms_1` and `atoms_2` are instances of `Atoms` objects. "
   ]
  },
  {
   "cell_type": "code",
   "execution_count": null,
   "id": "9996552f",
   "metadata": {},
   "outputs": [],
   "source": [
    "# Your code here"
   ]
  },
  {
   "cell_type": "markdown",
   "execution_count": null,
   "id": "d80d6587",
   "metadata": {},
   "outputs": [],
   "source": [
    "### Exercise: Crystalline silver"
   ]
  },
  {
   "cell_type": "markdown",
   "execution_count": null,
   "id": "8567b058",
   "metadata": {},
   "outputs": [],
   "source": [
    "![Depiction of the fcc crystal structure of silver](https://www.e-education.psu.edu/matse81/sites/www.e-education.psu.edu.matse81/files/images/lesson05/FCC.png)\n",
    "\n",
    "In material science a crystal is a material that is periodic in every direction, \n",
    "that is it consists of a infinitely repeating unit cell. \n",
    "\n",
    "Silver has the face-centred cubic crystal structure where each side of the unit cell \n",
    "has length of a, also known as the lattice constant. \n",
    "\n",
    "The cell contains four silver atoms \n",
    "- 1/8 of an atom placed at every corner\n",
    "- Half an atom placed in the middle of each of the faces. \n",
    "\n",
    "Because of periodic boundary conditions half an atom in each face corresponds, to one atom in half the faces. \n",
    "An eigth of an atom at every corner is equivalent to one atom at the origin. \n",
    "\n",
    "Write a *function* `get_fcc_silver(a)` that takes the lattice constant as an input and returns an `Atoms`\n",
    "object for fcc silver with that lattice constant. "
   ]
  },
  {
   "cell_type": "code",
   "execution_count": null,
   "id": "ce433629",
   "metadata": {},
   "outputs": [],
   "source": [
    "def get_fcc_silver(a):\n",
    "    crystal = 0 # Your code here\n",
    "    return crystal"
   ]
  },
  {
   "cell_type": "markdown",
   "execution_count": null,
   "id": "0aeeab9e",
   "metadata": {},
   "outputs": [],
   "source": [
    "Another important part of `ase` is that it interfaces to many methods for calculating \n",
    "the total energy of an `Atoms`-object, such as \n",
    "\n",
    "- **Density Functional Theory**: GPAW, VASP, QuantumEspresso, Abinit, etc..\n",
    "- **Empirical potentials**: Lennard Jones, Effective Medium Theory, ..\n",
    "\n",
    "These are all approximations for solving the many electron time-independent Schrodinger equation. \n",
    "An energy calculation can be performed, like so"
   ]
  },
  {
   "cell_type": "code",
   "execution_count": null,
   "id": "6fa347d1",
   "metadata": {},
   "outputs": [],
   "source": [
    "from ase.calculators.emt import EMT\n",
    "\n",
    "# Define the calculator.\n",
    "# The one used here is Effective Medium Theory, which is a relatively \n",
    "# simple empirical potential so it doesn't require any additional settings.\n",
    "calculator = EMT() \n",
    "\n",
    "# Get the atoms object\n",
    "atoms = get_fcc_silver(4.0)\n",
    "\n",
    "# Attach the calculator to the atoms object\n",
    "atoms.calc = calculator\n",
    "\n",
    "# Perform the calculation\n",
    "energy = atoms.get_potential_energy()\n",
    "print(energy)"
   ]
  },
  {
   "cell_type": "markdown",
   "execution_count": null,
   "id": "2c6bdd3a",
   "metadata": {},
   "outputs": [],
   "source": [
    "Use your function `get_fcc_silver` to calculate the total energy for \n",
    "several lattice constants and make a plot of the total energy as a \n",
    "function of the lattice constant.\n",
    "\n",
    "If everything goes well you should get a parabolic curve where the minimum value \n",
    "is in good agreement with e.g. wikipedia. "
   ]
  },
  {
   "cell_type": "code",
   "execution_count": null,
   "id": "f95ae249",
   "metadata": {},
   "outputs": [],
   "source": [
    "import numpy as np\n",
    "lattice_constants = np.linspace(3.8, 4.2, 50)\n",
    "energies = np.zeros_like(lattice_constants)\n",
    "\n",
    "# Your code here: Loop over lattice_constants and calculate the energy for each one and store it in the energies array."
   ]
  },
  {
   "cell_type": "markdown",
   "execution_count": null,
   "id": "5aadc4b2",
   "metadata": {},
   "outputs": [],
   "source": [
    "The cell below plots the energy as a function of the lattice constant."
   ]
  },
  {
   "cell_type": "code",
   "execution_count": null,
   "id": "b9749ed9",
   "metadata": {},
   "outputs": [],
   "source": [
    "import matplotlib.pyplot as plt\n",
    "\n",
    "fig, ax = plt.subplots(figsize=(4, 3))\n",
    "\n",
    "ax.plot(lattice_constants, energies)\n",
    "optimal = lattice_constants[np.argmin(energies)]\n",
    "ax.axvline(optimal, color='black')\n",
    "\n",
    "ax.set_xlabel('Lattice constant [Å]')\n",
    "ax.set_ylabel('Total energy [eV]')\n",
    "ax.set_title(f'Optimal lattice constant: {optimal: 0.3f} Å')\n",
    "plt.show()"
   ]
  },
  {
   "cell_type": "markdown",
   "execution_count": null,
   "id": "f3c7d56f",
   "metadata": {},
   "outputs": [],
   "source": [
    "### Exercise: Oxygen adsorption on Ag(100)"
   ]
  },
  {
   "cell_type": "markdown",
   "execution_count": null,
   "id": "c0c15187",
   "metadata": {},
   "outputs": [],
   "source": [
    "We can also model surfaces, this is done by having periodic boundary conditions in \n",
    "two dimensions and adding vacuum in the third. \n",
    "\n",
    "`ase` provides utility functions to construct such configurations."
   ]
  },
  {
   "cell_type": "code",
   "execution_count": null,
   "id": "10febefe",
   "metadata": {},
   "outputs": [],
   "source": [
    "from ase.build import fcc100\n",
    "\n",
    "surface = fcc100(symbol='Ag', \n",
    "                 size=(5, 5, 3), # Repeat the unit cell 5 times in x and y, and 3 times in z.\n",
    "                 vacuum=10.0, \n",
    "                 a=4.06) # Add 10 Å of vacuum in the z-direction.\n",
    "\n",
    "view(surface, viewer='x3d')"
   ]
  },
  {
   "cell_type": "markdown",
   "execution_count": null,
   "id": "c81b5616",
   "metadata": {},
   "outputs": [],
   "source": [
    "This surface has three unique adsorption sites\n",
    "\n",
    "- Top sites: Directly above a silver atom in the top layer.\n",
    "- Bridge sites: In the middle between two silver atoms in the top layer.\n",
    "- Hollow site: In the center of four silver atoms in the top layer.\n",
    "\n",
    "Write three functions that create the surface with an oxygen atom in each of these \n",
    "three configurations given a z-coordinate, that is \n",
    "\n",
    "- `get_top_site(z)`\n",
    "- `get_bridge_site(z)`\n",
    "- `get_hollow_site(z)`\n",
    "\n",
    "Hint: You can find the $x$ and $y$ coordinates for each site as average over the $x$ or $y$ coordinates \n",
    "of selected atoms from the surface. To find the indices of atoms to average over, use the viewer/gui.\n",
    "For example; \n",
    "\n",
    "`bridge_site_x = (surface.positions[62, 0] + surface.positions[67, 0]) / 2`\n",
    "\n",
    "Hint: Create an `Atoms` object for the surface and the oxygen separately and add them together \n",
    "like you did for the molecules."
   ]
  },
  {
   "cell_type": "code",
   "execution_count": null,
   "id": "399e225a",
   "metadata": {},
   "outputs": [],
   "source": [
    "def get_surface():\n",
    "    surface = fcc100(symbol='Ag', \n",
    "                 size=(5, 5, 3), # Repeat the unit cell 5 times in x and y, and 3 times in z.\n",
    "                 vacuum=10.0, \n",
    "                 a=4.06) # Add 10 Å of vacuum in the z-direction.\n",
    "    return surface\n",
    "\n",
    "\n",
    "def get_top_site(z):\n",
    "    \"\"\"\n",
    "    Indices on 5x5x3: 62\n",
    "    \"\"\"\n",
    "    surface = get_surface()\n",
    "    x = 0 # Your code here\n",
    "    y = 0 # Your code here\n",
    "    adsorbant = Atoms('O', positions=[[x, y, z]])\n",
    "    return surface + adsorbant\n",
    "\n",
    "def get_bridge_site(z):\n",
    "    \"\"\"\n",
    "    Indices on 5x5x3: 62, 67\n",
    "    \"\"\"\n",
    "    surface = get_surface()\n",
    "    indices = [62, 67]\n",
    "    x = 0 # Your code here\n",
    "    y = 0 # Your code here\n",
    "    adsorbant = Atoms('O', positions=[[x, y, z]])\n",
    "    return surface + adsorbant\n",
    "\n",
    "def get_hollow_site(z):\n",
    "    \"\"\"\n",
    "    Indices on 5x5x3: 62, 67\n",
    "    \"\"\"\n",
    "    surface = get_surface()\n",
    "    indices = [62, 67, 63, 68]\n",
    "    x = 0 # Your code here\n",
    "    y = 0 # Your code here\n",
    "    adsorbant = Atoms('O', positions=[[x, y, z]])\n",
    "    return surface + adsorbant"
   ]
  },
  {
   "cell_type": "markdown",
   "execution_count": null,
   "id": "bd8e5e47",
   "metadata": {},
   "outputs": [],
   "source": [
    "Now calculate the energy as a function of the z-position of the oxygen for each \n",
    "of the sites to determine the optimal oxygen adsorption position.\n",
    "\n",
    "To do so make a function that takes one of the `get_<site>_site`-function, \n",
    "a list of z-values and a calculator and returns the energy for each value of z. "
   ]
  },
  {
   "cell_type": "code",
   "execution_count": null,
   "id": "87cc99a2",
   "metadata": {},
   "outputs": [],
   "source": [
    "def evaluate_site(site_func, z, calc):\n",
    "    energies = np.zeros_like(z) # Array to store solution\n",
    "    # Your code here:\n",
    "    # Create a loop over z and calculate the energy for each value.\n",
    "    return energies"
   ]
  },
  {
   "cell_type": "markdown",
   "execution_count": null,
   "id": "497d07e7",
   "metadata": {},
   "outputs": [],
   "source": [
    "The cell below creates a plot of the energy as a function of the height for \n",
    "each adsorption site."
   ]
  },
  {
   "cell_type": "code",
   "execution_count": null,
   "id": "e089498a",
   "metadata": {},
   "outputs": [],
   "source": [
    "calculator = EMT()\n",
    "z_positions = np.linspace(14.5, 16.5, 50)\n",
    "energies_top = evaluate_site(get_top_site, z_positions, calculator)\n",
    "energies_bridge = evaluate_site(get_bridge_site, z_positions, calculator)\n",
    "energies_hollow = evaluate_site(get_hollow_site, z_positions, calculator)\n",
    "\n",
    "# Plot the results\n",
    "fig, ax = plt.subplots(figsize=(6, 4))\n",
    "\n",
    "ax.plot(z_positions, energies_top, label='Top site')\n",
    "ax.plot(z_positions, energies_bridge, label='Bridge site')\n",
    "ax.plot(z_positions, energies_hollow, label='Hollow site')\n",
    "\n",
    "ax.set_xlabel('z-position [Å]')\n",
    "ax.set_ylabel('Total energy [eV]')\n",
    "ax.set_title('Energy vs. z-position for Oxygen Adsorption on Ag(100)')\n",
    "ax.legend()\n",
    "\n",
    "e_min = min(energies_top.min(), energies_bridge.min(), energies_hollow.min())\n",
    "ax.set_ylim([e_min - 0.1, e_min + 5])\n",
    "\n",
    "plt.show()"
   ]
  },
  {
   "cell_type": "markdown",
   "execution_count": null,
   "id": "c914a4dc",
   "metadata": {},
   "outputs": [],
   "source": [
    "You should find that oxygen binds slightly more strongly to the hollow site. \n",
    "\n",
    "However, the potential we used (EMT) is not particularly accurate for this system. \n",
    "But doing higher accuracy calculations e.g. requires more computational resources \n",
    "than a typical machine has access to. \n",
    "\n",
    "However, this is an instance where machine learning can help us! In recent years \n",
    "machine-learning based potentials trained on very large databases of high quality \n",
    "calculations have become available. One such is SevenNet, which we can try using;"
   ]
  },
  {
   "cell_type": "code",
   "execution_count": null,
   "id": "f4950793",
   "metadata": {},
   "outputs": [],
   "source": [
    "from sevenn.sevennet_calculator import SevenNetCalculator"
   ]
  },
  {
   "cell_type": "code",
   "execution_count": null,
   "id": "d5061cda",
   "metadata": {},
   "outputs": [],
   "source": [
    "\n",
    "# Only make the calculator once, takes awhile to create each time.\n",
    "calculator = SevenNetCalculator(model='7net-0', device='cpu')\n",
    "z_positions = np.linspace(14.75, 18.5, 50)\n",
    "energies_top = evaluate_site(get_top_site, z_positions, calculator)\n",
    "energies_bridge = evaluate_site(get_bridge_site, z_positions, calculator)\n",
    "energies_hollow = evaluate_site(get_hollow_site, z_positions, calculator)\n",
    "\n",
    "# Plot the results\n",
    "fig, ax = plt.subplots(figsize=(6, 4))\n",
    "\n",
    "ax.plot(z_positions, energies_top, label='Top site')\n",
    "ax.plot(z_positions, energies_bridge, label='Bridge site')\n",
    "ax.plot(z_positions, energies_hollow, label='Hollow site')\n",
    "\n",
    "ax.set_xlabel('z-position [Å]')\n",
    "ax.set_ylabel('Total energy [eV]')\n",
    "ax.set_title('Energy vs. z-position for Oxygen Adsorption on Ag(100)')\n",
    "ax.legend()\n",
    "\n",
    "e_min = min(energies_top.min(), energies_bridge.min(), energies_hollow.min())\n",
    "ax.set_ylim([e_min - 0.1, e_min + 5])\n",
    "\n",
    "plt.show()"
   ]
  }
 ],
 "metadata": {},
 "nbformat": 4,
 "nbformat_minor": 5
}
